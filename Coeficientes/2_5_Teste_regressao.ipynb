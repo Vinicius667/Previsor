{
 "cells": [
  {
   "cell_type": "code",
   "execution_count": null,
   "metadata": {},
   "outputs": [],
   "source": [
    "# Importa bibliotecas\n",
    "import pandas as pd\n",
    "import numpy as np\n",
    "import matplotlib.pyplot as plt\n",
    "from scipy import stats"
   ]
  },
  {
   "cell_type": "code",
   "execution_count": null,
   "metadata": {},
   "outputs": [],
   "source": [
    "# Extrai arrays para a regressão linear\n",
    "def extract_xy(df : pd.DataFrame, x_name : str , y_name : str, order_by : str,return_label=False):\n",
    "    # Exclui linhas que tenham nulos\n",
    "    idx_notna = (df[x_name].notna()) &  (df[y_name].notna())\n",
    "    # Ordena dataframe\n",
    "    ordered_notna = df[idx_notna].sort_values(by = order_by)\n",
    "    x = ordered_notna[x_name]# / pd.to_timedelta(1, unit='D')\n",
    "    y = ordered_notna[y_name] #/ pd.to_timedelta(1, unit='D')\n",
    "    # Preserva nome ddas colunas caso necessário\n",
    "    if return_label:\n",
    "        # Converte para float64 caso e x e y estejam em formato de data\n",
    "        extract_xy.labels = ordered_notna[return_label]\n",
    "    xy = np.zeros((2,x.shape[0]))\n",
    "    xy[0] = x\n",
    "    xy[1] = y\n",
    "    return xy\n",
    "\n",
    "\n",
    "# Calcula coeficientes da regressão linear\n",
    "def calc_regression(x,y):\n",
    "    res = stats.linregress(x.flatten(), y.flatten())\n",
    "    a, b, r, p_value, std_err = res    \n",
    "    return [a, b, r, p_value, std_err]\n"
   ]
  },
  {
   "cell_type": "code",
   "execution_count": null,
   "metadata": {},
   "outputs": [],
   "source": [
    "# Dicionários com fase e marco que marca seu início\n",
    "dict_fase_marco = {\n",
    "    \"IO_OC\" : \"DatInicioObraRealizado\",\n",
    "    \"CC_OC\" : \"DatConcretagemRealizado\",\n",
    "    \"ME_OC\" : \"DatMontagemRealizado\",\n",
    "    \"OT_OC\" : \"DatLiberacaoSFGTeste\"\n",
    "}"
   ]
  },
  {
   "cell_type": "code",
   "execution_count": null,
   "metadata": {},
   "outputs": [],
   "source": [
    "# Carrega tabelas\n",
    "#df = pd.read_excel(\"./Outputs/previsor_resultados.xlsx\",sheet_name='Teste regressao')\n",
    "tabela_previsor = pd.read_parquet(\"./Outputs/tabela_previsor.gzip\")"
   ]
  },
  {
   "cell_type": "code",
   "execution_count": null,
   "metadata": {},
   "outputs": [],
   "source": [
    "lista_geracao = df.SigTipoGeracao.unique()"
   ]
  },
  {
   "cell_type": "code",
   "execution_count": null,
   "metadata": {},
   "outputs": [],
   "source": [
    "num_subplots = len(lista_geracao) * len(dict_fase_marco)"
   ]
  },
  {
   "cell_type": "code",
   "execution_count": null,
   "metadata": {},
   "outputs": [],
   "source": [
    "z_score_max = 1.65 # Escore-z que representa percentil de aproximadamente 90%. Será usado para a identificação de outliers\n",
    "fig, axes = plt.subplots(num_subplots,2,figsize=(18,num_subplots*7))\n",
    "count = 0\n",
    "\n",
    "dict_atrasos = {}\n",
    "\n",
    "for SigTipoGeracao in lista_geracao:\n",
    "    dict_atrasos[SigTipoGeracao] = {}\n",
    "    for fase,marco in dict_fase_marco.items():\n",
    "        ax = axes[count]\n",
    "        count += 1\n",
    "        mask_geracao = (df.SigTipoGeracao == SigTipoGeracao)\n",
    "        marco_ataso = f\"{marco}_atraso_ambos\"\n",
    "        # Média e desvio padrão do tempo de duração de fase\n",
    "        m = tabela_previsor[(tabela_previsor.Comercialização==\"Ambos\") & (tabela_previsor.Fase == fase) & (tabela_previsor[\"Tipo de geração\"]==SigTipoGeracao)].Media_Fase.iloc[0]/pd.Timedelta(1,\"D\")\n",
    "        std = tabela_previsor[(tabela_previsor.Comercialização==\"Ambos\") & (tabela_previsor.Fase == fase) & (tabela_previsor[\"Tipo de geração\"]==SigTipoGeracao)].Std_Fase.iloc[0]/pd.Timedelta(1,\"D\")\n",
    "        # Tempo máximo de duração das fases para identificar outliers\n",
    "        tempo_max = (z_score_max*std)+m\n",
    "        tempo_min= -(z_score_max*std)+m\n",
    "        outliers = ((df[fase]) > tempo_max)| ((df[fase]) < tempo_min)\n",
    "        try:\n",
    "            x,y = extract_xy(df[mask_geracao & (~outliers)],x_name=marco_ataso,y_name=\"Atraso\",order_by=marco_ataso)\n",
    "            dict_atrasos[SigTipoGeracao][marco] = x\n",
    "            dict_atrasos[SigTipoGeracao][\"Atraso\"] = y\n",
    "            # Coeficientes da regressão linear\n",
    "            a, b, r, p_value, std_err = calc_regression(x,y)\n",
    "        except  ValueError:\n",
    "            continue          \n",
    "        \n",
    "        # Plot                     \n",
    "        x_plot = np.linspace((x).min()-10,(x).max()+10,100)\n",
    "        ax[0].plot(x_plot,a*x_plot+b,color=\"green\",label= f\"RL: {a:.1f}x+{b:.1f}\")\n",
    "        ax[0].scatter(x,y,color=\"blue\",alpha=0.15,label=\"Dados utilizados\")\n",
    "        ax[0].set_xlim((x).min(),(x).max())\n",
    "        ax[0].set_ylim((y).min(),(y).max())\n",
    "        ax[0].set_title(f\"\"\"\\nTipo de geração: {SigTipoGeracao} Número total de usinas: {x.shape[0]}-\\n\\nCorrelação: = {f\"{100*r:.1f}%\"}\"\"\")\n",
    "        ax[0].set_xlabel(f\"Ataso {marco} (dias)\")\n",
    "        ax[0].set_ylabel(f\"Atraso (dias)\")\n",
    "\n",
    "        ################################## Resíduos\n",
    "        ax[1].axhline(y=0,xmin=x.min(),xmax=x.max(),color=\"green\")\n",
    "        y_residuo = y - (x*a+b)\n",
    "        ax[1].scatter(x,y_residuo,color=\"blue\",alpha=0.15,label=\"Resíduo\")\n",
    "        ax[1].set_xlim((x).min(),(x).max())\n",
    "        ax[1].set_ylim((y_residuo).min(),(y_residuo).max())\n",
    "        ax[1].set_title(f\"Resíduos\\n Média: {y_residuo.mean():.2E}\")\n",
    "        ax[1].set_xlabel(f\"Ataso {marco} (dias)\")\n",
    "        ax[1].set_ylabel(f\"Resíduo\")\n",
    "\n",
    "        plt.tight_layout()"
   ]
  },
  {
   "cell_type": "code",
   "execution_count": null,
   "metadata": {},
   "outputs": [],
   "source": [
    "fig, axes = plt.subplots(num_subplots,2,figsize=(10,num_subplots*7))\n",
    "count = 0\n",
    "for SigTipoGeracao in lista_geracao:\n",
    "    for fase,marco in dict_fase_marco.items():\n",
    "        ax = axes[count]\n",
    "        count +=1\n",
    "        atraso_marco = dict_atrasos[SigTipoGeracao][marco]\n",
    "        atraso = dict_atrasos[SigTipoGeracao][\"Atraso\"]\n",
    "        ax[0].hist(atraso_marco,bins=30)\n",
    "        ax[1].hist(atraso,bins=30)\n",
    "        try:\n",
    "            p_value_atraso_marco = round(stats.shapiro(atraso_marco).pvalue,5)\n",
    "            p_value_atraso = round(stats.shapiro(atraso).pvalue,5)\n",
    "        except:\n",
    "            continue\n",
    "        ax[0].set_title(f\"\"\"\\nTipo de geração: {SigTipoGeracao}\\n Marco: {marco}\\n p-value: {p_value_atraso_marco}\"\"\")\n",
    "        ax[1].set_title(f\"\"\"\\nTipo de geração: {SigTipoGeracao}\\n Atraso\\n p-value: {p_value_atraso}\"\"\")"
   ]
  }
 ],
 "metadata": {
  "kernelspec": {
   "display_name": "Aneel",
   "language": "python",
   "name": "python3"
  },
  "language_info": {
   "codemirror_mode": {
    "name": "ipython",
    "version": 3
   },
   "file_extension": ".py",
   "mimetype": "text/x-python",
   "name": "python",
   "nbconvert_exporter": "python",
   "pygments_lexer": "ipython3",
   "version": "3.10.4 | packaged by conda-forge | (main, Mar 30 2022, 08:38:02) [MSC v.1916 64 bit (AMD64)]"
  },
  "orig_nbformat": 4,
  "vscode": {
   "interpreter": {
    "hash": "ff5ab5aeef423a334f99560c66ad68010afa0cd01c099fa68524cb04a5f985d0"
   }
  }
 },
 "nbformat": 4,
 "nbformat_minor": 2
}
