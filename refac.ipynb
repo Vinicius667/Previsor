{
 "cells": [
  {
   "cell_type": "code",
   "execution_count": 1,
   "metadata": {},
   "outputs": [],
   "source": [
    "import re\n",
    "import glob"
   ]
  },
  {
   "cell_type": "code",
   "execution_count": 21,
   "metadata": {},
   "outputs": [],
   "source": [
    "def read_file(path: str,encoding = \"utf-8\"):\n",
    "    # Lê arquivo\n",
    "    #Encoding: utf-8, utf-16, utf-32, utf-16-be, utf-16-le, utf-32-be, utf-32-le\n",
    "    with open(path, 'r', encoding = encoding) as f:\n",
    "        lines = \"\".join(f.readlines())\n",
    "    return lines\n",
    "\n",
    "\n",
    "def write_file(text:str,path:str,encoding = \"utf-8\"):\n",
    "    text = text.encode(encoding)\n",
    "    # Escreve arquivo\n",
    "    with open(path, 'wb') as f:\n",
    "        f.write(text)"
   ]
  },
  {
   "cell_type": "code",
   "execution_count": 3,
   "metadata": {},
   "outputs": [],
   "source": [
    "file_paths = glob.glob(\"./**/*.*py*\",recursive=True)"
   ]
  },
  {
   "cell_type": "code",
   "execution_count": 4,
   "metadata": {},
   "outputs": [],
   "source": [
    "changes = {\n",
    "    \"vmonitoramentoug\" : \"vmonitoramentoug\",\n",
    "    \"vmonitoramentousina\": \"vmonitoramentousina\",\n",
    "    \"vrapeelcronograna\" : \"vvrapeelcronogranacronograna\",\n",
    "    \"vmonitoramentoleilao\" : \"vmonitoramentoleilao\"\n",
    "}"
   ]
  },
  {
   "cell_type": "code",
   "execution_count": 23,
   "metadata": {},
   "outputs": [],
   "source": [
    "for file_path in file_paths:\n",
    "    dummy = os.path.basename(file_path).split(\".\")\n",
    "    extension =  dummy[-1]\n",
    "    if (os.path.samefile(\"./refac.ipynb\",os.getcwd())) or (extension==\"pyc\"):\n",
    "        continue\n",
    "    file = read_file(file_path)\n",
    "    for key,item in changes.items():\n",
    "        file = file.replace(key,item)\n",
    "    write_file(file,file_path)\n",
    "        "
   ]
  }
 ],
 "metadata": {
  "kernelspec": {
   "display_name": "Aneel",
   "language": "python",
   "name": "python3"
  },
  "language_info": {
   "codemirror_mode": {
    "name": "ipython",
    "version": 3
   },
   "file_extension": ".py",
   "mimetype": "text/x-python",
   "name": "python",
   "nbconvert_exporter": "python",
   "pygments_lexer": "ipython3",
   "version": "3.10.4 | packaged by conda-forge | (main, Mar 30 2022, 08:38:02) [MSC v.1916 64 bit (AMD64)]"
  },
  "orig_nbformat": 4,
  "vscode": {
   "interpreter": {
    "hash": "ff5ab5aeef423a334f99560c66ad68010afa0cd01c099fa68524cb04a5f985d0"
   }
  }
 },
 "nbformat": 4,
 "nbformat_minor": 2
}
