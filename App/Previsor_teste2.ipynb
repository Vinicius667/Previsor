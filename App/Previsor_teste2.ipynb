{
 "cells": [
  {
   "cell_type": "code",
   "execution_count": 1,
   "metadata": {},
   "outputs": [
    {
     "name": "stdout",
     "output_type": "stream",
     "text": [
      "Current working directory was changed to: C:\\Users\\viniciusbarros\\Documents\\GitHub\\Previsor\\App\n"
     ]
    }
   ],
   "source": [
    "import os, sys\n",
    "from utils import *\n",
    "from download_DB import download_db\n",
    "import glob\n",
    "import pandas as pd\n",
    "import numpy as np"
   ]
  },
  {
   "cell_type": "code",
   "execution_count": 2,
   "metadata": {},
   "outputs": [
    {
     "name": "stdout",
     "output_type": "stream",
     "text": [
      "\n",
      "******************** Baixando arquivos *********************\n",
      "\n",
      "Carregando arquivo de log...\n",
      "vmonitoramentoleilao já foi baixado hoje: Dia: 29/12/22 - Horário: 11:38:16.  Portanto não foi baixado novamente.\n",
      "vmonitoramentoug já foi baixado hoje: Dia: 29/12/22 - Horário: 11:41:06.  Portanto não foi baixado novamente.\n",
      "vmonitoramentousina já foi baixado hoje: Dia: 29/12/22 - Horário: 11:41:10.  Portanto não foi baixado novamente.\n",
      "vrapeelacesso já foi baixado hoje: Dia: 29/12/22 - Horário: 11:41:20.  Portanto não foi baixado novamente.\n",
      "vrapeelcontratorecurso já foi baixado hoje: Dia: 29/12/22 - Horário: 11:42:20.  Portanto não foi baixado novamente.\n",
      "vrapeelcronograma já foi baixado hoje: Dia: 29/12/22 - Horário: 11:43:35.  Portanto não foi baixado novamente.\n",
      "vrapeelempreendimento já foi baixado hoje: Dia: 29/12/22 - Horário: 11:43:48.  Portanto não foi baixado novamente.\n",
      "vrapeellicenciamento já foi baixado hoje: Dia: 29/12/22 - Horário: 11:44:27.  Portanto não foi baixado novamente.\n",
      "vrapeeloperacaoug já foi baixado hoje: Dia: 29/12/22 - Horário: 11:45:00.  Portanto não foi baixado novamente.\n",
      "\n",
      "************************************************************\n",
      "\n"
     ]
    }
   ],
   "source": [
    "files = []\n",
    "for file in glob.glob(\"./Queries/v*.txt\",):\n",
    "    a,b = os.path.split(file)\n",
    "    files.append(b.split(\".\")[0])\n",
    "directory = download_db(lista_download=files)"
   ]
  },
  {
   "cell_type": "code",
   "execution_count": 3,
   "metadata": {},
   "outputs": [],
   "source": [
    "monitoramentoleilao  = pd.read_parquet(os.path.join(directory,\"vmonitoramentoleilao.gzip\"))[['IdeUsinaOutorga','CodLeilao', 'DatInicioSuprimento']]\n",
    "monitoramentoleilao.dropna(subset='DatInicioSuprimento',inplace=True)\n",
    "monitoramentoleilao = monitoramentoleilao.loc[monitoramentoleilao.groupby('IdeUsinaOutorga').DatInicioSuprimento.idxmin()]"
   ]
  },
  {
   "cell_type": "code",
   "execution_count": 23,
   "metadata": {},
   "outputs": [],
   "source": [
    "monitoramento_usina = pd.read_parquet(os.path.join(directory,\"vmonitoramentousina.gzip\"))[['IdeUsinaOutorga','NomUsina', 'SigTipoGeracao', 'CodCegFormatado']]"
   ]
  },
  {
   "cell_type": "code",
   "execution_count": 27,
   "metadata": {},
   "outputs": [],
   "source": [
    "cols = ['IdeUsinaOutorga','DthEnvio','DatRealizacaoII','DatPrevistaAprovacaoIII','DatRealizacaoIII','DatRealizacaoIX','DatRealizacaoXI','DatRealizacaoXIII','DatRealizacaoXIV','DatRealizacaoXII','DatRealizacaoVII','DatRealizacaoVIII','DatRealizacaoVI','DatRealizacaoX','DatRealizacaoV','DatRealizacaoIV']\n",
    "rename_cols = {\n",
    "        'DthEnvio' : 'Data_Envio',\n",
    "        'NomUsina' : 'usina_nome',\n",
    "        'DatRealizacaoII' : 'canteiroReal',\n",
    "        'DatPrevistaAprovacaoIII' : 'prev_IO',\n",
    "        'DatRealizacaoIII' : 'IO_real',\n",
    "        'DatRealizacaoIX' : 'DesvRio_real',\n",
    "        'DatRealizacaoXI' : 'Ench_Real',\n",
    "        'DatRealizacaoXIII' : 'IOTrans_Real',\n",
    "        'DatRealizacaoXIV' : 'Conc_Trans_REAL',\n",
    "        'DatRealizacaoXII' : 'Comiss_Real',\n",
    "        'DatRealizacaoVII' : 'ME_Real_conc_eol',\n",
    "        'DatRealizacaoVIII' : 'Conc_Combust_Real'}\n",
    "        \n",
    "rapeel_cronograma = pd.read_parquet(os.path.join(directory,\"vrapeelcronograma.gzip\"))[cols].rename(columns=rename_cols)"
   ]
  },
  {
   "cell_type": "code",
   "execution_count": 38,
   "metadata": {},
   "outputs": [],
   "source": [
    "cols = ['DthEnvio','IdeUsinaOutorga']\n",
    "mercado = pd.read_parquet(os.path.join(directory,\"vrapeelcontratorecurso.gzip\"))[cols]\n",
    "mercado = mercado.loc[mercado.groupby(\"IdeUsinaOutorga\").DthEnvio.idxmax()]"
   ]
  },
  {
   "cell_type": "code",
   "execution_count": 50,
   "metadata": {},
   "outputs": [],
   "source": [
    "monitoramento_ug = pd.read_parquet(os.path.join(directory,\"vmonitoramentoug.gzip\"))"
   ]
  },
  {
   "cell_type": "code",
   "execution_count": 52,
   "metadata": {},
   "outputs": [
    {
     "data": {
      "text/plain": [
       "Index(['IdeUsinaOutorga', 'CodCegFormatado', 'SigTipoGeracao', 'NomUsina',\n",
       "       'NumUgUsina', 'MdaPotenciaUnitaria', 'MdaPotenciaLiberadaTeste',\n",
       "       'MdaPotenciaLiberadaComercial', 'NumDespachoTeste',\n",
       "       'numDespachoComercial', 'IdcMonitorada', 'DatDescidaoutorgadaRotor',\n",
       "       'DatRealizacaoSFGRotor', 'DatInicioOpTesteOutorgada',\n",
       "       'DatLiberacaoSFGTeste', 'DatUGInicioOpComerOutorgado',\n",
       "       'DatLiberOpComerRealizado', 'DatPrevisaoSFGComercial'],\n",
       "      dtype='object')"
      ]
     },
     "execution_count": 52,
     "metadata": {},
     "output_type": "execute_result"
    }
   ],
   "source": [
    "monitoramento_ug.columns"
   ]
  }
 ],
 "metadata": {
  "kernelspec": {
   "display_name": "Aneel",
   "language": "python",
   "name": "python3"
  },
  "language_info": {
   "codemirror_mode": {
    "name": "ipython",
    "version": 3
   },
   "file_extension": ".py",
   "mimetype": "text/x-python",
   "name": "python",
   "nbconvert_exporter": "python",
   "pygments_lexer": "ipython3",
   "version": "3.10.4"
  },
  "orig_nbformat": 4,
  "vscode": {
   "interpreter": {
    "hash": "480ca3e66d53f790d71f23a4e6fd5a0fb225c2e8e74302bbec1a2934ab7c2802"
   }
  }
 },
 "nbformat": 4,
 "nbformat_minor": 2
}
