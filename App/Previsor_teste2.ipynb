{
 "cells": [
  {
   "cell_type": "code",
   "execution_count": 1,
   "metadata": {},
   "outputs": [
    {
     "name": "stdout",
     "output_type": "stream",
     "text": [
      "Current working directory was changed to: C:\\Users\\viniciusbarros\\Documents\\GitHub\\Previsor\\App\n"
     ]
    }
   ],
   "source": [
    "import os, sys\n",
    "from utils import *\n",
    "from download_DB import download_db\n",
    "import glob\n",
    "import pandas as pd\n",
    "import numpy as np"
   ]
  },
  {
   "cell_type": "code",
   "execution_count": 2,
   "metadata": {},
   "outputs": [
    {
     "name": "stdout",
     "output_type": "stream",
     "text": [
      "\n",
      "******************** Baixando arquivos *********************\n",
      "\n",
      "Carregando arquivo de log...\n",
      "vmonitoramentoleilao já foi baixado hoje: Dia: 29/12/22 - Horário: 11:38:16.  Portanto não foi baixado novamente.\n",
      "vmonitoramentoug já foi baixado hoje: Dia: 29/12/22 - Horário: 11:41:06.  Portanto não foi baixado novamente.\n",
      "vmonitoramentousina já foi baixado hoje: Dia: 29/12/22 - Horário: 11:41:10.  Portanto não foi baixado novamente.\n",
      "vrapeelacesso já foi baixado hoje: Dia: 29/12/22 - Horário: 11:41:20.  Portanto não foi baixado novamente.\n",
      "vrapeelcontratorecurso já foi baixado hoje: Dia: 29/12/22 - Horário: 11:42:20.  Portanto não foi baixado novamente.\n",
      "vrapeelcronograma já foi baixado hoje: Dia: 29/12/22 - Horário: 11:43:35.  Portanto não foi baixado novamente.\n",
      "vrapeelempreendimento já foi baixado hoje: Dia: 29/12/22 - Horário: 11:43:48.  Portanto não foi baixado novamente.\n",
      "vrapeellicenciamento já foi baixado hoje: Dia: 29/12/22 - Horário: 11:44:27.  Portanto não foi baixado novamente.\n",
      "vrapeeloperacaoug já foi baixado hoje: Dia: 29/12/22 - Horário: 11:45:00.  Portanto não foi baixado novamente.\n",
      "\n",
      "************************************************************\n",
      "\n"
     ]
    }
   ],
   "source": [
    "files = []\n",
    "for file in glob.glob(\"./Queries/v*.txt\",):\n",
    "    a,b = os.path.split(file)\n",
    "    files.append(b.split(\".\")[0])\n",
    "directory = download_db(lista_download=files)"
   ]
  },
  {
   "cell_type": "code",
   "execution_count": 26,
   "metadata": {},
   "outputs": [],
   "source": [
    "monitoramentoleilao  = pd.read_parquet(os.path.join(directory,\"vmonitoramentoleilao.gzip\"))[['IdeUsinaOutorga','CodLeilao', 'DatInicioSuprimento']]\n",
    "monitoramentoleilao.dropna(subset='DatInicioSuprimento',inplace=True)"
   ]
  },
  {
   "cell_type": "code",
   "execution_count": 4,
   "metadata": {},
   "outputs": [],
   "source": [
    "monitoramento_usina = pd.read_parquet(os.path.join(directory,\"vmonitoramentousina.gzip\"))[['IdeUsinaOutorga','NomUsina', 'SigTipoGeracao', 'CodCegFormatado']]"
   ]
  },
  {
   "cell_type": "code",
   "execution_count": 5,
   "metadata": {},
   "outputs": [],
   "source": [
    "cols = ['IdeUsinaOutorga','DthEnvio','DatRealizacaoII','DatPrevistaAprovacaoIII','DatRealizacaoIII','DatRealizacaoIX','DatRealizacaoXI','DatRealizacaoXIII','DatRealizacaoXIV','DatRealizacaoXII','DatRealizacaoVII','DatRealizacaoVIII','DatRealizacaoVI','DatRealizacaoX','DatRealizacaoV','DatRealizacaoIV']\n",
    "rename_cols = {\n",
    "        'DthEnvio' : 'Data_Envio',\n",
    "        'NomUsina' : 'usina_nome',\n",
    "        'DatRealizacaoII' : 'canteiroReal',\n",
    "        'DatPrevistaAprovacaoIII' : 'prev_IO',\n",
    "        'DatRealizacaoIII' : 'IO_real',\n",
    "        'DatRealizacaoIX' : 'DesvRio_real',\n",
    "        'DatRealizacaoXI' : 'Ench_Real',\n",
    "        'DatRealizacaoXIII' : 'IOTrans_Real',\n",
    "        'DatRealizacaoXIV' : 'Conc_Trans_REAL',\n",
    "        'DatRealizacaoXII' : 'Comiss_Real',\n",
    "        'DatRealizacaoVII' : 'ME_Real_conc_eol',\n",
    "        'DatRealizacaoVIII' : 'Conc_Combust_Real'}\n",
    "        \n",
    "rapeel_cronograma = pd.read_parquet(os.path.join(directory,\"vrapeelcronograma.gzip\"))[cols].rename(columns=rename_cols)"
   ]
  },
  {
   "cell_type": "code",
   "execution_count": 46,
   "metadata": {},
   "outputs": [],
   "source": [
    "cols = ['DthEnvio','IdeUsinaOutorga']\n",
    "mercado = pd.read_parquet(os.path.join(directory,\"vrapeelcontratorecurso.gzip\"))[cols]\n",
    "\n",
    "\n",
    "cols = [\"DatValidadeIV\",\"DatValidadeI\",\"DthEnvio\",\"IdeUsinaOutorga\",\"DatValidadeV\"]\n",
    "rename_cols = {'DatValidadeIV': 'DatValidadeLI','DatValidadeI': 'DatValidadeLP','DatValidadeV': 'DatValidadeLO'}\n",
    "ambiental_datas = pd.read_parquet(os.path.join(directory,\"vrapeellicenciamento.gzip\"))[cols].rename(columns=rename_cols)\n",
    "\n",
    "\n",
    "cols = [\"DthEnvio\",\"NomSitContratoI\",\"NomSitContratoIV\",\"NomSituacaoContratoIII\",\"NomSitContratoII\",\"IdeUsinaOutorga\"]\n",
    "rename_cols = {'NomSitContratoI': 'NomSitContratoCCD','NomSitContratoIV': 'NomSitContratoCUST','NomSituacaoContratoIII': 'NomSituacaoContratoCUSD','NomSitContratoII': 'NomSitContratoCCT'}\n",
    "acesso_contratos = pd.read_parquet(os.path.join(directory,\"vrapeelacesso.gzip\"))[cols].rename(columns=rename_cols)\n",
    "\n",
    "input_rapeel = pd.merge(mercado,ambiental_datas,on=['IdeUsinaOutorga','DthEnvio'],how=\"inner\")\n",
    "input_rapeel = pd.merge(input_rapeel,acesso_contratos,on=['IdeUsinaOutorga','DthEnvio'],how=\"inner\")"
   ]
  },
  {
   "cell_type": "code",
   "execution_count": 45,
   "metadata": {},
   "outputs": [
    {
     "data": {
      "text/html": [
       "<div>\n",
       "<style scoped>\n",
       "    .dataframe tbody tr th:only-of-type {\n",
       "        vertical-align: middle;\n",
       "    }\n",
       "\n",
       "    .dataframe tbody tr th {\n",
       "        vertical-align: top;\n",
       "    }\n",
       "\n",
       "    .dataframe thead th {\n",
       "        text-align: right;\n",
       "    }\n",
       "</style>\n",
       "<table border=\"1\" class=\"dataframe\">\n",
       "  <thead>\n",
       "    <tr style=\"text-align: right;\">\n",
       "      <th></th>\n",
       "      <th>DthEnvio</th>\n",
       "      <th>IdeUsinaOutorga</th>\n",
       "      <th>DatValidadeLI</th>\n",
       "      <th>DatValidadeLP</th>\n",
       "      <th>DatValidadeLO</th>\n",
       "    </tr>\n",
       "  </thead>\n",
       "  <tbody>\n",
       "    <tr>\n",
       "      <th>0</th>\n",
       "      <td>2019-11-04 13:28:22.543</td>\n",
       "      <td>27969</td>\n",
       "      <td>2018-07-28</td>\n",
       "      <td>NaT</td>\n",
       "      <td>NaT</td>\n",
       "    </tr>\n",
       "    <tr>\n",
       "      <th>1</th>\n",
       "      <td>2019-11-05 13:35:26.100</td>\n",
       "      <td>1997</td>\n",
       "      <td>NaT</td>\n",
       "      <td>2011-11-17</td>\n",
       "      <td>2024-01-22</td>\n",
       "    </tr>\n",
       "    <tr>\n",
       "      <th>2</th>\n",
       "      <td>2019-11-14 14:37:53.673</td>\n",
       "      <td>32923</td>\n",
       "      <td>2021-07-23</td>\n",
       "      <td>2016-07-17</td>\n",
       "      <td>2023-09-27</td>\n",
       "    </tr>\n",
       "    <tr>\n",
       "      <th>3</th>\n",
       "      <td>2019-11-05 17:34:59.677</td>\n",
       "      <td>30938</td>\n",
       "      <td>2019-10-16</td>\n",
       "      <td>2014-10-11</td>\n",
       "      <td>NaT</td>\n",
       "    </tr>\n",
       "    <tr>\n",
       "      <th>4</th>\n",
       "      <td>2019-11-05 17:17:39.770</td>\n",
       "      <td>324</td>\n",
       "      <td>2018-03-05</td>\n",
       "      <td>2002-12-11</td>\n",
       "      <td>NaT</td>\n",
       "    </tr>\n",
       "    <tr>\n",
       "      <th>...</th>\n",
       "      <td>...</td>\n",
       "      <td>...</td>\n",
       "      <td>...</td>\n",
       "      <td>...</td>\n",
       "      <td>...</td>\n",
       "    </tr>\n",
       "    <tr>\n",
       "      <th>60027</th>\n",
       "      <td>2022-12-14 17:41:40.507</td>\n",
       "      <td>51641</td>\n",
       "      <td>NaT</td>\n",
       "      <td>2023-03-31</td>\n",
       "      <td>NaT</td>\n",
       "    </tr>\n",
       "    <tr>\n",
       "      <th>60028</th>\n",
       "      <td>2022-12-14 17:44:27.333</td>\n",
       "      <td>51642</td>\n",
       "      <td>NaT</td>\n",
       "      <td>2023-03-31</td>\n",
       "      <td>NaT</td>\n",
       "    </tr>\n",
       "    <tr>\n",
       "      <th>60029</th>\n",
       "      <td>2022-12-14 17:45:57.813</td>\n",
       "      <td>51643</td>\n",
       "      <td>NaT</td>\n",
       "      <td>2023-03-31</td>\n",
       "      <td>NaT</td>\n",
       "    </tr>\n",
       "    <tr>\n",
       "      <th>60030</th>\n",
       "      <td>2022-12-14 17:47:06.843</td>\n",
       "      <td>51688</td>\n",
       "      <td>NaT</td>\n",
       "      <td>2023-04-05</td>\n",
       "      <td>NaT</td>\n",
       "    </tr>\n",
       "    <tr>\n",
       "      <th>60031</th>\n",
       "      <td>2022-12-14 17:48:00.447</td>\n",
       "      <td>51690</td>\n",
       "      <td>NaT</td>\n",
       "      <td>2023-04-05</td>\n",
       "      <td>NaT</td>\n",
       "    </tr>\n",
       "  </tbody>\n",
       "</table>\n",
       "<p>60032 rows × 5 columns</p>\n",
       "</div>"
      ],
      "text/plain": [
       "                     DthEnvio  IdeUsinaOutorga DatValidadeLI DatValidadeLP  \\\n",
       "0     2019-11-04 13:28:22.543            27969    2018-07-28           NaT   \n",
       "1     2019-11-05 13:35:26.100             1997           NaT    2011-11-17   \n",
       "2     2019-11-14 14:37:53.673            32923    2021-07-23    2016-07-17   \n",
       "3     2019-11-05 17:34:59.677            30938    2019-10-16    2014-10-11   \n",
       "4     2019-11-05 17:17:39.770              324    2018-03-05    2002-12-11   \n",
       "...                       ...              ...           ...           ...   \n",
       "60027 2022-12-14 17:41:40.507            51641           NaT    2023-03-31   \n",
       "60028 2022-12-14 17:44:27.333            51642           NaT    2023-03-31   \n",
       "60029 2022-12-14 17:45:57.813            51643           NaT    2023-03-31   \n",
       "60030 2022-12-14 17:47:06.843            51688           NaT    2023-04-05   \n",
       "60031 2022-12-14 17:48:00.447            51690           NaT    2023-04-05   \n",
       "\n",
       "      DatValidadeLO  \n",
       "0               NaT  \n",
       "1        2024-01-22  \n",
       "2        2023-09-27  \n",
       "3               NaT  \n",
       "4               NaT  \n",
       "...             ...  \n",
       "60027           NaT  \n",
       "60028           NaT  \n",
       "60029           NaT  \n",
       "60030           NaT  \n",
       "60031           NaT  \n",
       "\n",
       "[60032 rows x 5 columns]"
      ]
     },
     "execution_count": 45,
     "metadata": {},
     "output_type": "execute_result"
    }
   ],
   "source": [
    "input_rapee"
   ]
  },
  {
   "cell_type": "code",
   "execution_count": 11,
   "metadata": {},
   "outputs": [],
   "source": [
    "cols = [\"DatUGInicioOpComerOutorgado\",\"IdcMonitorada\",\"IdeUsinaOutorga\",\"DatLiberacaoSFGTeste\",\"DatInicioOpTesteOutorgada\"]\n",
    "monitoramentoug = pd.read_parquet(os.path.join(directory,\"vmonitoramentoug.gzip\"))[cols]"
   ]
  },
  {
   "cell_type": "code",
   "execution_count": 12,
   "metadata": {},
   "outputs": [],
   "source": [
    "# vInputCronograma tbm implementado,DATASREAL (LABEL=\"Idempreendimento\" AS Idempreendimento)\n",
    "cols = [\"DatRealizacaoIII\",\"DatRealizacaoV\",\"DatRealizacaoXIV\",\"DatRealizacaoXII\",\"IdeUsinaOutorga\",\"DatRealizacaoIV\",\"DatRealizacaoIX\",\"DatRealizacaoXI\",\"DatRealizacaoX\",\"DthEnvio\",\"DatRealizacaoVI\",\"DatRealizacaoII\",\"CodCeg\",\"DatRealizacaoXIII\",\"DatRealizacaoVII\"]\n",
    "rename_cols = {'DatRealizacaoIII': 'IO_real','DatRealizacaoXIV': 'Conc_Trans_REAL','DatRealizacaoXII': 'Comiss_Real','DatRealizacaoIX': 'DesvRio_real','DatRealizacaoXI': 'Ench_Real','DthEnvio': 'Data_Envio','DatRealizacaoII': 'canteiroReal','DatRealizacaoXIII': 'IOTrans_Real','DatRealizacaoVII': 'ME_Real_conc_eol'}\n",
    "vcronograma = pd.read_parquet(os.path.join(directory,\"vrapeelcronograma.gzip\"))[cols].drop_duplicates()[cols].rename(columns=rename_cols)\n",
    "vcronograma[\"classe\"] = vcronograma.CodCeg.str.slice(3,5)\n",
    "vcronograma[\"CC_real\"] = pd.to_datetime(pd.NA)\n",
    "vcronograma.loc[vcronograma.classe == \"PH\",\"CC_real\"] = vcronograma.DatRealizacaoIV\n",
    "vcronograma.loc[vcronograma.classe == \"CV\",\"CC_real\"] = vcronograma.DatRealizacaoV\n",
    "vcronograma[\"ME_real\"] = vcronograma.DatRealizacaoX\n",
    "vcronograma.loc[vcronograma.classe == \"CV\",\"ME_real\"] = vcronograma.DatRealizacaoVI"
   ]
  },
  {
   "cell_type": "code",
   "execution_count": null,
   "metadata": {},
   "outputs": [],
   "source": [
    "cols = [\"Data_Envio\",\"Comiss_Real\",\"canteiroReal\",\"prev_IO\",\"ME_Real_conc_eol\",\"Conc_Trans_REAL\",\"CC_real\",\"DesvRio_real\",\"Ench_Real\",\"IdeUsinaOutorga\",\"ME_real\",\"IO_real\",\"IOTrans_Real\"]\n",
    "realcronogramarapeel[cols].rename(columns=rename_cols)"
   ]
  },
  {
   "cell_type": "code",
   "execution_count": 19,
   "metadata": {},
   "outputs": [
    {
     "ename": "KeyError",
     "evalue": "'Data_Envio'",
     "output_type": "error",
     "traceback": [
      "\u001b[1;31m---------------------------------------------------------------------------\u001b[0m",
      "\u001b[1;31mKeyError\u001b[0m                                  Traceback (most recent call last)",
      "\u001b[1;32mc:\\Users\\viniciusbarros\\Documents\\GitHub\\Previsor\\App\\Previsor_teste2.ipynb Cell 10\u001b[0m in \u001b[0;36m<cell line: 2>\u001b[1;34m()\u001b[0m\n\u001b[0;32m      <a href='vscode-notebook-cell:/c%3A/Users/viniciusbarros/Documents/GitHub/Previsor/App/Previsor_teste2.ipynb#X20sZmlsZQ%3D%3D?line=0'>1</a>\u001b[0m \u001b[39m#WORK.UG_Real n serve pra nd, inputug tbm n \u001b[39;00m\n\u001b[1;32m----> <a href='vscode-notebook-cell:/c%3A/Users/viniciusbarros/Documents/GitHub/Previsor/App/Previsor_teste2.ipynb#X20sZmlsZQ%3D%3D?line=1'>2</a>\u001b[0m real_cronograma_rapeel \u001b[39m=\u001b[39m pd\u001b[39m.\u001b[39;49mmerge(vcronograma,monitoramentoleilao,on\u001b[39m=\u001b[39;49m[\u001b[39m'\u001b[39;49m\u001b[39mIdeUsinaOutorga\u001b[39;49m\u001b[39m'\u001b[39;49m,\u001b[39m'\u001b[39;49m\u001b[39mData_Envio\u001b[39;49m\u001b[39m'\u001b[39;49m])\n",
      "File \u001b[1;32mc:\\Users\\viniciusbarros\\AppData\\Local\\Continuum\\anaconda3\\envs\\Aneel\\lib\\site-packages\\pandas\\core\\reshape\\merge.py:107\u001b[0m, in \u001b[0;36mmerge\u001b[1;34m(left, right, how, on, left_on, right_on, left_index, right_index, sort, suffixes, copy, indicator, validate)\u001b[0m\n\u001b[0;32m     90\u001b[0m \u001b[39m@Substitution\u001b[39m(\u001b[39m\"\u001b[39m\u001b[39m\\n\u001b[39;00m\u001b[39mleft : DataFrame or named Series\u001b[39m\u001b[39m\"\u001b[39m)\n\u001b[0;32m     91\u001b[0m \u001b[39m@Appender\u001b[39m(_merge_doc, indents\u001b[39m=\u001b[39m\u001b[39m0\u001b[39m)\n\u001b[0;32m     92\u001b[0m \u001b[39mdef\u001b[39;00m \u001b[39mmerge\u001b[39m(\n\u001b[1;32m   (...)\u001b[0m\n\u001b[0;32m    105\u001b[0m     validate: \u001b[39mstr\u001b[39m \u001b[39m|\u001b[39m \u001b[39mNone\u001b[39;00m \u001b[39m=\u001b[39m \u001b[39mNone\u001b[39;00m,\n\u001b[0;32m    106\u001b[0m ) \u001b[39m-\u001b[39m\u001b[39m>\u001b[39m DataFrame:\n\u001b[1;32m--> 107\u001b[0m     op \u001b[39m=\u001b[39m _MergeOperation(\n\u001b[0;32m    108\u001b[0m         left,\n\u001b[0;32m    109\u001b[0m         right,\n\u001b[0;32m    110\u001b[0m         how\u001b[39m=\u001b[39;49mhow,\n\u001b[0;32m    111\u001b[0m         on\u001b[39m=\u001b[39;49mon,\n\u001b[0;32m    112\u001b[0m         left_on\u001b[39m=\u001b[39;49mleft_on,\n\u001b[0;32m    113\u001b[0m         right_on\u001b[39m=\u001b[39;49mright_on,\n\u001b[0;32m    114\u001b[0m         left_index\u001b[39m=\u001b[39;49mleft_index,\n\u001b[0;32m    115\u001b[0m         right_index\u001b[39m=\u001b[39;49mright_index,\n\u001b[0;32m    116\u001b[0m         sort\u001b[39m=\u001b[39;49msort,\n\u001b[0;32m    117\u001b[0m         suffixes\u001b[39m=\u001b[39;49msuffixes,\n\u001b[0;32m    118\u001b[0m         copy\u001b[39m=\u001b[39;49mcopy,\n\u001b[0;32m    119\u001b[0m         indicator\u001b[39m=\u001b[39;49mindicator,\n\u001b[0;32m    120\u001b[0m         validate\u001b[39m=\u001b[39;49mvalidate,\n\u001b[0;32m    121\u001b[0m     )\n\u001b[0;32m    122\u001b[0m     \u001b[39mreturn\u001b[39;00m op\u001b[39m.\u001b[39mget_result()\n",
      "File \u001b[1;32mc:\\Users\\viniciusbarros\\AppData\\Local\\Continuum\\anaconda3\\envs\\Aneel\\lib\\site-packages\\pandas\\core\\reshape\\merge.py:700\u001b[0m, in \u001b[0;36m_MergeOperation.__init__\u001b[1;34m(self, left, right, how, on, left_on, right_on, axis, left_index, right_index, sort, suffixes, copy, indicator, validate)\u001b[0m\n\u001b[0;32m    693\u001b[0m \u001b[39mself\u001b[39m\u001b[39m.\u001b[39m_cross \u001b[39m=\u001b[39m cross_col\n\u001b[0;32m    695\u001b[0m \u001b[39m# note this function has side effects\u001b[39;00m\n\u001b[0;32m    696\u001b[0m (\n\u001b[0;32m    697\u001b[0m     \u001b[39mself\u001b[39m\u001b[39m.\u001b[39mleft_join_keys,\n\u001b[0;32m    698\u001b[0m     \u001b[39mself\u001b[39m\u001b[39m.\u001b[39mright_join_keys,\n\u001b[0;32m    699\u001b[0m     \u001b[39mself\u001b[39m\u001b[39m.\u001b[39mjoin_names,\n\u001b[1;32m--> 700\u001b[0m ) \u001b[39m=\u001b[39m \u001b[39mself\u001b[39;49m\u001b[39m.\u001b[39;49m_get_merge_keys()\n\u001b[0;32m    702\u001b[0m \u001b[39m# validate the merge keys dtypes. We may need to coerce\u001b[39;00m\n\u001b[0;32m    703\u001b[0m \u001b[39m# to avoid incompatible dtypes\u001b[39;00m\n\u001b[0;32m    704\u001b[0m \u001b[39mself\u001b[39m\u001b[39m.\u001b[39m_maybe_coerce_merge_keys()\n",
      "File \u001b[1;32mc:\\Users\\viniciusbarros\\AppData\\Local\\Continuum\\anaconda3\\envs\\Aneel\\lib\\site-packages\\pandas\\core\\reshape\\merge.py:1097\u001b[0m, in \u001b[0;36m_MergeOperation._get_merge_keys\u001b[1;34m(self)\u001b[0m\n\u001b[0;32m   1095\u001b[0m \u001b[39mif\u001b[39;00m \u001b[39mnot\u001b[39;00m is_rkey(rk):\n\u001b[0;32m   1096\u001b[0m     \u001b[39mif\u001b[39;00m rk \u001b[39mis\u001b[39;00m \u001b[39mnot\u001b[39;00m \u001b[39mNone\u001b[39;00m:\n\u001b[1;32m-> 1097\u001b[0m         right_keys\u001b[39m.\u001b[39mappend(right\u001b[39m.\u001b[39;49m_get_label_or_level_values(rk))\n\u001b[0;32m   1098\u001b[0m     \u001b[39melse\u001b[39;00m:\n\u001b[0;32m   1099\u001b[0m         \u001b[39m# work-around for merge_asof(right_index=True)\u001b[39;00m\n\u001b[0;32m   1100\u001b[0m         right_keys\u001b[39m.\u001b[39mappend(right\u001b[39m.\u001b[39mindex)\n",
      "File \u001b[1;32mc:\\Users\\viniciusbarros\\AppData\\Local\\Continuum\\anaconda3\\envs\\Aneel\\lib\\site-packages\\pandas\\core\\generic.py:1840\u001b[0m, in \u001b[0;36mNDFrame._get_label_or_level_values\u001b[1;34m(self, key, axis)\u001b[0m\n\u001b[0;32m   1838\u001b[0m     values \u001b[39m=\u001b[39m \u001b[39mself\u001b[39m\u001b[39m.\u001b[39maxes[axis]\u001b[39m.\u001b[39mget_level_values(key)\u001b[39m.\u001b[39m_values\n\u001b[0;32m   1839\u001b[0m \u001b[39melse\u001b[39;00m:\n\u001b[1;32m-> 1840\u001b[0m     \u001b[39mraise\u001b[39;00m \u001b[39mKeyError\u001b[39;00m(key)\n\u001b[0;32m   1842\u001b[0m \u001b[39m# Check for duplicates\u001b[39;00m\n\u001b[0;32m   1843\u001b[0m \u001b[39mif\u001b[39;00m values\u001b[39m.\u001b[39mndim \u001b[39m>\u001b[39m \u001b[39m1\u001b[39m:\n",
      "\u001b[1;31mKeyError\u001b[0m: 'Data_Envio'"
     ]
    }
   ],
   "source": [
    "#WORK.UG_Real n serve pra nd, inputug tbm n \n",
    "real_cronograma_rapeel = pd.merge(vcronograma,monitoramentoleilao,on=['IdeUsinaOutorga','Data_Envio'])"
   ]
  },
  {
   "cell_type": "code",
   "execution_count": 21,
   "metadata": {},
   "outputs": [
    {
     "ename": "AttributeError",
     "evalue": "'DataFrame' object has no attribute 'monitoramentoleilao'",
     "output_type": "error",
     "traceback": [
      "\u001b[1;31m---------------------------------------------------------------------------\u001b[0m",
      "\u001b[1;31mAttributeError\u001b[0m                            Traceback (most recent call last)",
      "\u001b[1;32mc:\\Users\\viniciusbarros\\Documents\\GitHub\\Previsor\\App\\Previsor_teste2.ipynb Cell 11\u001b[0m in \u001b[0;36m<cell line: 1>\u001b[1;34m()\u001b[0m\n\u001b[1;32m----> <a href='vscode-notebook-cell:/c%3A/Users/viniciusbarros/Documents/GitHub/Previsor/App/Previsor_teste2.ipynb#X24sZmlsZQ%3D%3D?line=0'>1</a>\u001b[0m monitoramentoleilao\u001b[39m.\u001b[39;49mmonitoramentoleilao\n",
      "File \u001b[1;32mc:\\Users\\viniciusbarros\\AppData\\Local\\Continuum\\anaconda3\\envs\\Aneel\\lib\\site-packages\\pandas\\core\\generic.py:5575\u001b[0m, in \u001b[0;36mNDFrame.__getattr__\u001b[1;34m(self, name)\u001b[0m\n\u001b[0;32m   5568\u001b[0m \u001b[39mif\u001b[39;00m (\n\u001b[0;32m   5569\u001b[0m     name \u001b[39mnot\u001b[39;00m \u001b[39min\u001b[39;00m \u001b[39mself\u001b[39m\u001b[39m.\u001b[39m_internal_names_set\n\u001b[0;32m   5570\u001b[0m     \u001b[39mand\u001b[39;00m name \u001b[39mnot\u001b[39;00m \u001b[39min\u001b[39;00m \u001b[39mself\u001b[39m\u001b[39m.\u001b[39m_metadata\n\u001b[0;32m   5571\u001b[0m     \u001b[39mand\u001b[39;00m name \u001b[39mnot\u001b[39;00m \u001b[39min\u001b[39;00m \u001b[39mself\u001b[39m\u001b[39m.\u001b[39m_accessors\n\u001b[0;32m   5572\u001b[0m     \u001b[39mand\u001b[39;00m \u001b[39mself\u001b[39m\u001b[39m.\u001b[39m_info_axis\u001b[39m.\u001b[39m_can_hold_identifiers_and_holds_name(name)\n\u001b[0;32m   5573\u001b[0m ):\n\u001b[0;32m   5574\u001b[0m     \u001b[39mreturn\u001b[39;00m \u001b[39mself\u001b[39m[name]\n\u001b[1;32m-> 5575\u001b[0m \u001b[39mreturn\u001b[39;00m \u001b[39mobject\u001b[39;49m\u001b[39m.\u001b[39;49m\u001b[39m__getattribute__\u001b[39;49m(\u001b[39mself\u001b[39;49m, name)\n",
      "\u001b[1;31mAttributeError\u001b[0m: 'DataFrame' object has no attribute 'monitoramentoleilao'"
     ]
    }
   ],
   "source": [
    "monitoramentoleilao.monitoramentoleilao"
   ]
  },
  {
   "cell_type": "code",
   "execution_count": 20,
   "metadata": {},
   "outputs": [
    {
     "data": {
      "text/plain": [
       "0       2019-11-04 13:28:22.543\n",
       "1       2019-11-05 13:35:26.100\n",
       "2       2019-11-05 17:17:39.770\n",
       "3       2019-11-05 17:34:59.677\n",
       "4       2019-11-05 19:18:40.620\n",
       "                  ...          \n",
       "39266   2022-12-14 17:41:40.507\n",
       "39267   2022-12-14 17:44:27.333\n",
       "39268   2022-12-14 17:45:57.813\n",
       "39269   2022-12-14 17:47:06.843\n",
       "39270   2022-12-14 17:48:00.447\n",
       "Name: Data_Envio, Length: 39271, dtype: datetime64[ns]"
      ]
     },
     "execution_count": 20,
     "metadata": {},
     "output_type": "execute_result"
    }
   ],
   "source": [
    "vcronograma.Data_Envio"
   ]
  }
 ],
 "metadata": {
  "kernelspec": {
   "display_name": "Aneel",
   "language": "python",
   "name": "python3"
  },
  "language_info": {
   "codemirror_mode": {
    "name": "ipython",
    "version": 3
   },
   "file_extension": ".py",
   "mimetype": "text/x-python",
   "name": "python",
   "nbconvert_exporter": "python",
   "pygments_lexer": "ipython3",
   "version": "3.10.4"
  },
  "orig_nbformat": 4,
  "vscode": {
   "interpreter": {
    "hash": "480ca3e66d53f790d71f23a4e6fd5a0fb225c2e8e74302bbec1a2934ab7c2802"
   }
  }
 },
 "nbformat": 4,
 "nbformat_minor": 2
}
