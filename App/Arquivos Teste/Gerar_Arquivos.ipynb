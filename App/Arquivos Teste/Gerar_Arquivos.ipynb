{
 "cells": [
  {
   "cell_type": "code",
   "execution_count": 2,
   "metadata": {},
   "outputs": [],
   "source": [
    "import pandas as pd\n",
    "import pickle"
   ]
  },
  {
   "cell_type": "code",
   "execution_count": 3,
   "metadata": {},
   "outputs": [],
   "source": [
    "skate_ug = pd.read_parquet(f\"./2022_11_25/skate_ug.gzip\")\n",
    "skate_leilao = pd.read_parquet(f\"./2022_11_25/skate_leilao.gzip\")\n",
    "skate_usinas = pd.read_parquet(f\"./2022_11_25/skate_usinas.gzip\")"
   ]
  },
  {
   "cell_type": "code",
   "execution_count": 6,
   "metadata": {},
   "outputs": [],
   "source": [
    "skate_ug = skate_ug[skate_ug.DatLiberOpComerRealizado.isna()]"
   ]
  },
  {
   "cell_type": "code",
   "execution_count": 42,
   "metadata": {},
   "outputs": [],
   "source": [
    "do_ACR = skate_usinas[skate_usinas.DscComercializacaoEnergia == \"ACR\"].IdeUsinaOutorga.sample(10).to_list()\n",
    "sem_IO = skate_usinas[skate_usinas.DatInicioObraRealizado.isna()].IdeUsinaOutorga.sample(10).to_list()\n",
    "diversas = skate_usinas.IdeUsinaOutorga.sample(10).to_list()"
   ]
  },
  {
   "cell_type": "code",
   "execution_count": 43,
   "metadata": {},
   "outputs": [],
   "source": [
    "usinas_escolhidas = set(do_ACR + sem_IO + diversas)"
   ]
  },
  {
   "cell_type": "code",
   "execution_count": 45,
   "metadata": {},
   "outputs": [],
   "source": [
    "skate_ug = skate_ug[skate_ug.IdeUsinaOutorga.isin(usinas_escolhidas)]\n",
    "skate_leilao = skate_leilao[skate_leilao.IdeUsinaOutorga.isin(usinas_escolhidas)]\n",
    "skate_usinas = skate_usinas[skate_usinas.IdeUsinaOutorga.isin(usinas_escolhidas)]"
   ]
  },
  {
   "cell_type": "code",
   "execution_count": 46,
   "metadata": {},
   "outputs": [],
   "source": [
    "skate_ug.to_parquet(\"./Arquivos/skate_ug.gzip\")\n",
    "skate_leilao.to_parquet(\"./Arquivos/skate_leilao.gzip\")\n",
    "skate_usinas.to_parquet(\"./Arquivos/skate_usinas.gzip\")"
   ]
  },
  {
   "cell_type": "code",
   "execution_count": 8,
   "metadata": {},
   "outputs": [],
   "source": [
    "log = {'skate_leilao': 'Dia: 00/00/00 - Horário: 00:00:00',\n",
    " 'skate_ug': 'Dia: 00/00/00 - Horário: 00:00:00',\n",
    " 'skate_usinas': 'Dia: 00/00/00 - Horário: 00:00:00'}"
   ]
  },
  {
   "cell_type": "code",
   "execution_count": 10,
   "metadata": {},
   "outputs": [],
   "source": [
    "with open(\"./Arquivos/log.pickle\", 'wb') as handle:\n",
    "    pickle.dump(log, handle, protocol=pickle.HIGHEST_PROTOCOL)"
   ]
  }
 ],
 "metadata": {
  "kernelspec": {
   "display_name": "Python 3.10.4 ('Aneel')",
   "language": "python",
   "name": "python3"
  },
  "language_info": {
   "codemirror_mode": {
    "name": "ipython",
    "version": 3
   },
   "file_extension": ".py",
   "mimetype": "text/x-python",
   "name": "python",
   "nbconvert_exporter": "python",
   "pygments_lexer": "ipython3",
   "version": "3.10.4"
  },
  "orig_nbformat": 4,
  "vscode": {
   "interpreter": {
    "hash": "4d28970a05ddb4de629ebf8a86150f97e64b78d521ffe1b886d85a40cf60df4e"
   }
  }
 },
 "nbformat": 4,
 "nbformat_minor": 2
}
