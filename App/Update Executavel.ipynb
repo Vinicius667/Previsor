{
 "cells": [
  {
   "cell_type": "code",
   "execution_count": 1,
   "metadata": {},
   "outputs": [],
   "source": [
    "import os,shutil,glob"
   ]
  },
  {
   "cell_type": "code",
   "execution_count": 2,
   "metadata": {},
   "outputs": [
    {
     "name": "stdout",
     "output_type": "stream",
     "text": [
      ".\\BIU.py\n",
      "./../../Executavel/main\\BIU.py True\n",
      ".\\Calcular_Previsao.py\n",
      "./../../Executavel/main\\Calcular_Previsao.py True\n",
      ".\\checar_rapeel.py\n",
      "./../../Executavel/main\\checar_rapeel.py True\n",
      ".\\download_DB.py\n",
      "./../../Executavel/main\\download_DB.py True\n",
      ".\\main.py\n",
      "./../../Executavel/main\\main.py True\n",
      ".\\Previsor.py\n",
      "./../../Executavel/main\\Previsor.py True\n",
      ".\\Queries\\bdworgs.txt\n",
      "./../../Executavel/main\\Queries\\bdworgs.txt True\n",
      ".\\Queries\\skate_ug.txt\n",
      "./../../Executavel/main\\Queries\\skate_ug.txt True\n",
      ".\\Queries\\vmonitoramentoleilao.txt\n",
      "./../../Executavel/main\\Queries\\vmonitoramentoleilao.txt True\n",
      ".\\Queries\\vmonitoramentoug.txt\n",
      "./../../Executavel/main\\Queries\\vmonitoramentoug.txt True\n",
      ".\\Queries\\vmonitoramentousina.txt\n",
      "./../../Executavel/main\\Queries\\vmonitoramentousina.txt True\n",
      ".\\Queries\\vrapeelacesso.txt\n",
      "./../../Executavel/main\\Queries\\vrapeelacesso.txt True\n",
      ".\\Queries\\vrapeelcontratorecurso.txt\n",
      "./../../Executavel/main\\Queries\\vrapeelcontratorecurso.txt True\n",
      ".\\Queries\\vrapeelcronograma.txt\n",
      "./../../Executavel/main\\Queries\\vrapeelcronograma.txt True\n",
      ".\\Queries\\vrapeelempreendimento.txt\n",
      "./../../Executavel/main\\Queries\\vrapeelempreendimento.txt True\n",
      ".\\Queries\\vrapeellicenciamento.txt\n",
      "./../../Executavel/main\\Queries\\vrapeellicenciamento.txt True\n",
      ".\\Queries\\vrapeeloperacaoug.txt\n",
      "./../../Executavel/main\\Queries\\vrapeeloperacaoug.txt True\n",
      ".\\Tabelas_Previsor\\rmse_previsoes.gzip\n",
      "./../../Executavel/main\\Tabelas_Previsor\\rmse_previsoes.gzip True\n",
      ".\\Tabelas_Previsor\\tabela_previsor.gzip\n",
      "./../../Executavel/main\\Tabelas_Previsor\\tabela_previsor.gzip True\n",
      ".\\Teste_files\\vmonitoramentoleilao.gzip\n",
      "./../../Executavel/main\\Teste_files\\vmonitoramentoleilao.gzip True\n",
      ".\\Teste_files\\vmonitoramentoug.gzip\n",
      "./../../Executavel/main\\Teste_files\\vmonitoramentoug.gzip True\n",
      ".\\Teste_files\\vmonitoramentousina.gzip\n",
      "./../../Executavel/main\\Teste_files\\vmonitoramentousina.gzip True\n",
      ".\\Teste_files\\vrapeelacesso.gzip\n",
      "./../../Executavel/main\\Teste_files\\vrapeelacesso.gzip True\n",
      ".\\Teste_files\\vrapeelcontratorecurso.gzip\n",
      "./../../Executavel/main\\Teste_files\\vrapeelcontratorecurso.gzip True\n",
      ".\\Teste_files\\vrapeelcronograma.gzip\n",
      "./../../Executavel/main\\Teste_files\\vrapeelcronograma.gzip True\n",
      ".\\Teste_files\\vrapeelempreendimento.gzip\n",
      "./../../Executavel/main\\Teste_files\\vrapeelempreendimento.gzip True\n",
      ".\\Teste_files\\vrapeellicenciamento.gzip\n",
      "./../../Executavel/main\\Teste_files\\vrapeellicenciamento.gzip True\n",
      ".\\Teste_files\\vrapeeloperacaoug.gzip\n",
      "./../../Executavel/main\\Teste_files\\vrapeeloperacaoug.gzip True\n",
      ".\\usinas_selecionadas.txt\n",
      "./../../Executavel/main\\usinas_selecionadas.txt True\n",
      ".\\utils.py\n",
      "./../../Executavel/main\\utils.py True\n"
     ]
    }
   ],
   "source": [
    "codigo_fonte_path = './../../Executavel/main'\n",
    "cwd = os.getcwd()\n",
    "for file in glob.glob(\"./**\",recursive=True):\n",
    "    if file[-3:] in ['.py','zip','txt']:\n",
    "        print(file)\n",
    "        src_file = file[2:]\n",
    "        dst_file = os.path.join(codigo_fonte_path,src_file)\n",
    "        print(dst_file,os.path.exists(dst_file))\n",
    "        shutil.copyfile(src_file,dst_file)"
   ]
  }
 ],
 "metadata": {
  "kernelspec": {
   "display_name": "Aneel",
   "language": "python",
   "name": "python3"
  },
  "language_info": {
   "codemirror_mode": {
    "name": "ipython",
    "version": 3
   },
   "file_extension": ".py",
   "mimetype": "text/x-python",
   "name": "python",
   "nbconvert_exporter": "python",
   "pygments_lexer": "ipython3",
   "version": "3.10.4"
  },
  "orig_nbformat": 4,
  "vscode": {
   "interpreter": {
    "hash": "480ca3e66d53f790d71f23a4e6fd5a0fb225c2e8e74302bbec1a2934ab7c2802"
   }
  }
 },
 "nbformat": 4,
 "nbformat_minor": 2
}
