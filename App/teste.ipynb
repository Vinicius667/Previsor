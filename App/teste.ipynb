{
 "cells": [],
 "metadata": {
  "kernelspec": {
   "display_name": "Aneel",
   "language": "python",
   "name": "python3"
  },
  "language_info": {
   "codemirror_mode": {
    "name": "ipython",
    "version": 3
   },
   "file_extension": ".py",
   "mimetype": "text/x-python",
   "name": "python",
   "nbconvert_exporter": "python",
   "pygments_lexer": "ipython3",
   "version": "3.10.4"
  },
  "orig_nbformat": 4,
  "vscode": {
   "interpreter": {
    "hash": "ff5ab5aeef423a334f99560c66ad68010afa0cd01c099fa68524cb04a5f985d0"
   }
  }
 },
 "nbformat": 4,
 "nbformat_minor": 2
}
