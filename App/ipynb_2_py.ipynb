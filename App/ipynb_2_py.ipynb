{
 "cells": [
  {
   "cell_type": "code",
   "execution_count": 541,
   "metadata": {},
   "outputs": [],
   "source": [
    "import os,sys\n",
    "import pandas as pd\n",
    "from pyperclip import copy\n",
    "import re\n",
    "import unicodedata as uc"
   ]
  },
  {
   "cell_type": "code",
   "execution_count": 542,
   "metadata": {},
   "outputs": [],
   "source": [
    "import json\n",
    "\n",
    "def read_ipynb(input_ipynb_file):\n",
    "    # Check if the input file is a Jupyter Notebook\n",
    "    \n",
    "    # Open the input Jupyter Notebook file\n",
    "    notebook = open(input_ipynb_file,encoding=\"utf-8\")\n",
    "    \n",
    "    # Read its content in the json format\n",
    "    notebook_content = json.load(notebook)\n",
    "\n",
    "    # Only extract the source code snippet from each cell in the input Jupyter Notebook\n",
    "    source_code_snippets = [cell['source'] for cell in notebook_content['cells']]\n",
    "    text = \"\"\n",
    "    for cell in source_code_snippets:\n",
    "        for line in cell:\n",
    "            text+= line\n",
    "        text+= \"\\n\"\n",
    "\n",
    "    return text\n",
    "def ipynb_2_py(input_ipynb_file):\n",
    "    text = read_ipynb(input_ipynb_file)\n",
    "    text = re.sub(r'display.*\\n',\"\",text,re.MULTILINE)\n",
    "\n",
    "    imports = re.search(r\"### start_imports ###\\n(.*)### end_imports ###\",\n",
    "                        text, re.MULTILINE | re.DOTALL|re.UNICODE).group(1)\n",
    "\n",
    "    functions = re.findall(r\"#### start_function ###(.*?)### end_function ###\",\n",
    "                        text, re.MULTILINE | re.DOTALL)\n",
    "\n",
    "    functions = re.findall(r\"#### start_function ###(.*?)### end_function ###\",\n",
    "                        text, re.MULTILINE | re.DOTALL)\n",
    "    funcoes = \"\"\n",
    "    for function in reversed(functions):\n",
    "        function_vars = re.search(r\"### start_function_vars ###\\n(.*)### end_function_vars ###\",\n",
    "                            function, re.MULTILINE | re.DOTALL).group(1)\n",
    "\n",
    "        dummy = \"\"\n",
    "\n",
    "        try:\n",
    "            function_defined_vars = re.search(r\"### start_funcion_defined_vars ###\\n(.*)\\n### end_funcion_defined_vars ###\",\n",
    "                                function, re.MULTILINE | re.DOTALL).group(1)\n",
    "\n",
    "\n",
    "\n",
    "            for line in function_defined_vars.split(\"\\n\"):\n",
    "                var,value = line.replace(\" \",'').split(\"=\")\n",
    "                dummy += f\"{var} = {value}, \"\n",
    "        except AttributeError:\n",
    "            pass\n",
    "        function_defined_vars = dummy\n",
    "\n",
    "        dummy = \"\"\n",
    "        try:\n",
    "            function_vars = re.search(r\"### end_funcion_defined_vars ###\\n(.*)\\n### end_function_vars ###\",\n",
    "                                function, re.MULTILINE | re.DOTALL).group(1)\n",
    "\n",
    "\n",
    "            for line in function_vars.split(\"\\n\"):\n",
    "                var,*value = line.replace(\" \",'').split(\"=\")\n",
    "                dummy += f\"{var}, \"\n",
    "        except AttributeError:\n",
    "            pass\n",
    "        function_vars = dummy\n",
    "        function_arg = function_vars +  function_defined_vars\n",
    "        function_name,code = re.findall(r\"function_name = (.*?)\\n.*### start_code ###\\n(.*)\",\n",
    "                            function, re.MULTILINE | re.DOTALL)[0]\n",
    "\n",
    "        code = re.sub(r\"\\\"\\\"\\\" ### include_on_script\\n(.*)\\\"\\\"\\\"\", \"\\\\1\", code, 0, re.MULTILINE | re.DOTALL)\n",
    "        dummy = \"\"\n",
    "        for line in code.split(\"\\n\"):\n",
    "            dummy += \" \"*4 + line + '\\n'\n",
    "        code = dummy\n",
    "        text = f\"{function_name}({function_arg}):\\n{dummy}\"\n",
    "        funcoes += text + \"\\n\"\n",
    "    return f\"{imports} \\n {funcoes}\""
   ]
  },
  {
   "cell_type": "code",
   "execution_count": 555,
   "metadata": {},
   "outputs": [],
   "source": [
    "texto = ipynb_2_py(\"./Previsor_teste3.ipynb\")"
   ]
  },
  {
   "cell_type": "code",
   "execution_count": 556,
   "metadata": {},
   "outputs": [],
   "source": [
    "copy(texto)"
   ]
  },
  {
   "cell_type": "code",
   "execution_count": 550,
   "metadata": {},
   "outputs": [
    {
     "ename": "AttributeError",
     "evalue": "'NoneType' object has no attribute 'group'",
     "output_type": "error",
     "traceback": [
      "\u001b[1;31m---------------------------------------------------------------------------\u001b[0m",
      "\u001b[1;31mAttributeError\u001b[0m                            Traceback (most recent call last)",
      "Cell \u001b[1;32mIn[550], line 1\u001b[0m\n\u001b[1;32m----> 1\u001b[0m ipynb_2_py(\u001b[39m\"\u001b[39;49m\u001b[39m./main.ipynb\u001b[39;49m\u001b[39m\"\u001b[39;49m)\n",
      "Cell \u001b[1;32mIn[543], line 16\u001b[0m, in \u001b[0;36mipynb_2_py\u001b[1;34m(input_ipynb_file)\u001b[0m\n\u001b[0;32m     12\u001b[0m funcoes \u001b[39m=\u001b[39m \u001b[39m\"\u001b[39m\u001b[39m\"\u001b[39m\n\u001b[0;32m     13\u001b[0m \u001b[39mfor\u001b[39;00m function \u001b[39min\u001b[39;00m \u001b[39mreversed\u001b[39m(functions):\n\u001b[0;32m     15\u001b[0m     function_vars \u001b[39m=\u001b[39m re\u001b[39m.\u001b[39;49msearch(\u001b[39mr\u001b[39;49m\u001b[39m\"\u001b[39;49m\u001b[39m### start_function_vars ###\u001b[39;49m\u001b[39m\\\u001b[39;49m\u001b[39mn(.*)### end_function_vars ###\u001b[39;49m\u001b[39m\"\u001b[39;49m,\n\u001b[1;32m---> 16\u001b[0m                         function, re\u001b[39m.\u001b[39;49mMULTILINE \u001b[39m|\u001b[39;49m re\u001b[39m.\u001b[39;49mDOTALL)\u001b[39m.\u001b[39;49mgroup(\u001b[39m1\u001b[39m)\n\u001b[0;32m     18\u001b[0m     dummy \u001b[39m=\u001b[39m \u001b[39m\"\u001b[39m\u001b[39m\"\u001b[39m\n\u001b[0;32m     20\u001b[0m     \u001b[39mtry\u001b[39;00m:\n",
      "\u001b[1;31mAttributeError\u001b[0m: 'NoneType' object has no attribute 'group'"
     ]
    }
   ],
   "source": []
  },
  {
   "cell_type": "code",
   "execution_count": 545,
   "metadata": {},
   "outputs": [],
   "source": [
    "functions = re.findall(r\"#### start_function ###(.*?)### end_function ###\",\n",
    "                    text, re.MULTILINE | re.DOTALL)\n",
    "\n",
    "for function in reversed(functions):\n",
    "    pass\n",
    "imports = re.search(r\"### start_imports ###\\n(.*)### end_imports ###\",\n",
    "                    text, re.MULTILINE | re.DOTALL|re.UNICODE).group(1)\n",
    "function_vars = re.search(r\"### start_function_vars ###\\n(.*)### end_function_vars ###\",\n",
    "                    function, re.MULTILINE | re.DOTALL).group(1)\n",
    "dummy = \"\"\n",
    "\n",
    "try:\n",
    "    function_defined_vars = re.search(r\"### start_funcion_defined_vars ###\\n(.*)\\n### end_funcion_defined_vars ###\",\n",
    "                        function, re.MULTILINE | re.DOTALL).group(1)\n",
    "\n",
    "\n",
    "\n",
    "    for line in function_defined_vars.split(\"\\n\"):\n",
    "        var,value = line.replace(\" \",'').split(\"=\")\n",
    "        dummy += f\"{var} = {value}, \"\n",
    "except AttributeError:\n",
    "    pass\n",
    "function_defined_vars = dummy\n",
    "\n",
    "dummy = \"\"\n",
    "try:\n",
    "    function_vars = re.search(r\"### end_funcion_defined_vars ###\\n(.*)\\n### end_function_vars ###\",\n",
    "                        function, re.MULTILINE | re.DOTALL).group(1)\n",
    "\n",
    "\n",
    "    for line in function_vars.split(\"\\n\"):\n",
    "        var,*value = line.replace(\" \",'').split(\"=\")\n",
    "        dummy += f\"{var}, \"\n",
    "except AttributeError:\n",
    "    pass\n",
    "function_vars = dummy\n",
    "function_arg = function_vars +  function_defined_vars\n",
    "function_name,code = re.findall(r\"function_name = (.*?)\\n.*### start_code ###\\n(.*)\",\n",
    "                    function, re.MULTILINE | re.DOTALL)[0]\n",
    "\n",
    "code = re.sub(r\"\\\"\\\"\\\" ### include_on_script\\n(.*)\\\"\\\"\\\"\", \"\\\\1\", code, 0, re.MULTILINE | re.DOTALL)\n",
    "dummy = \"\"\n",
    "for line in code.split(\"\\n\"):\n",
    "    dummy += \" \"*4 + line + '\\n'\n",
    "code = dummy\n",
    "text = f\"{function_name}({function_arg}):\\n{dummy}\""
   ]
  }
 ],
 "metadata": {
  "kernelspec": {
   "display_name": "Aneel",
   "language": "python",
   "name": "python3"
  },
  "language_info": {
   "codemirror_mode": {
    "name": "ipython",
    "version": 3
   },
   "file_extension": ".py",
   "mimetype": "text/x-python",
   "name": "python",
   "nbconvert_exporter": "python",
   "pygments_lexer": "ipython3",
   "version": "3.10.4"
  },
  "orig_nbformat": 4,
  "vscode": {
   "interpreter": {
    "hash": "ff5ab5aeef423a334f99560c66ad68010afa0cd01c099fa68524cb04a5f985d0"
   }
  }
 },
 "nbformat": 4,
 "nbformat_minor": 2
}
