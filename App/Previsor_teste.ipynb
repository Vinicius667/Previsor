{
 "cells": [
  {
   "cell_type": "code",
   "execution_count": 1,
   "metadata": {},
   "outputs": [],
   "source": [
    "import pandas as pd\n",
    "import sys\n",
    "from utils import *\n",
    "from datetime import date"
   ]
  },
  {
   "cell_type": "code",
   "execution_count": 2,
   "metadata": {},
   "outputs": [],
   "source": [
    "hoje = pd.to_datetime(date.today())\n",
    "hoje_str = hoje.strftime(r'%Y_%m_%d')\n",
    "skate_downloads_folder_name = \"SKATE_Downloads\"\n",
    "root_path = os.path.join(get_standard_folder_path(\"Documents\"), \"Previsor\")\n",
    "download_path = os.path.join(root_path, skate_downloads_folder_name)"
   ]
  },
  {
   "cell_type": "code",
   "execution_count": 3,
   "metadata": {},
   "outputs": [],
   "source": [
    "directory = last_download(download_path)"
   ]
  },
  {
   "cell_type": "code",
   "execution_count": 4,
   "metadata": {},
   "outputs": [],
   "source": [
    "log =  get_log_file(directory)"
   ]
  },
  {
   "cell_type": "code",
   "execution_count": 5,
   "metadata": {},
   "outputs": [
    {
     "data": {
      "text/plain": [
       "'2023_01_17_00_00_2023_01_17_00_00_2023_01_17_00_00'"
      ]
     },
     "execution_count": 5,
     "metadata": {},
     "output_type": "execute_result"
    }
   ],
   "source": [
    "get_standard_file_name([\"vmonitoramentoleilao\",\"vmonitoramentoug\" ,\"vmonitoramentousina\"],log)"
   ]
  }
 ],
 "metadata": {
  "kernelspec": {
   "display_name": "Aneel",
   "language": "python",
   "name": "python3"
  },
  "language_info": {
   "codemirror_mode": {
    "name": "ipython",
    "version": 3
   },
   "file_extension": ".py",
   "mimetype": "text/x-python",
   "name": "python",
   "nbconvert_exporter": "python",
   "pygments_lexer": "ipython3",
   "version": "3.10.4"
  },
  "orig_nbformat": 4,
  "vscode": {
   "interpreter": {
    "hash": "ff5ab5aeef423a334f99560c66ad68010afa0cd01c099fa68524cb04a5f985d0"
   }
  }
 },
 "nbformat": 4,
 "nbformat_minor": 2
}
