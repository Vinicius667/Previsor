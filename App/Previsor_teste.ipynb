{
 "cells": [
  {
   "cell_type": "code",
   "execution_count": 2,
   "metadata": {},
   "outputs": [
    {
     "name": "stdout",
     "output_type": "stream",
     "text": [
      "Diretório criado: C:\\Users\\viniciusbarros\\Documents\\Previsor\\Checar_Rapeel\n"
     ]
    }
   ],
   "source": [
    "from Calcular_Previsao import calcular_previsao\n",
    "from download_DB import download_db\n",
    "from checar_rapeel import checar_Rapeel\n",
    "import pandas as pd\n",
    "import os,sys\n",
    "from utils import *\n",
    "from tkinter  import Tk     # from tkinter import Tk for Python 3.x\n",
    "from tkinter.filedialog import askopenfilename\n",
    "import psutil\n",
    "from datetime import date\n",
    "\n",
    "\n",
    "\n",
    "hoje =  pd.to_datetime(date.today())\n",
    "hoje_str = hoje.strftime(r'%Y_%m_%d')\n",
    "skate_downloads_folder_name = \"SKATE_Downloads\"\n",
    "root_path = os.path.join(get_standard_folder_path(\"Documents\"), \"Previsor\")\n",
    "download_path = os.path.join(root_path,skate_downloads_folder_name)\n",
    "previsoes_path = os.path.join(root_path,\"Previsoes\")\n",
    "checar_rapeel_path = os.path.join(root_path,\"Checar_Rapeel\")\n",
    "\n",
    "\n",
    "def create_previsor_folders():\n",
    "    # Cria pastas padrão necessárias\n",
    "    create_folder(root_path)\n",
    "    create_folder(download_path)\n",
    "    create_folder(previsoes_path)\n",
    "    create_folder(checar_rapeel_path)\n",
    "\n",
    "\n",
    "def calc_previsao():\n",
    "    # Calcula previsão\n",
    "    global result, skate_merged\n",
    "    print(\"\\n\" + \" Baixando arquivos \".center(60,\"*\") + \"\\n\")\n",
    "    directory = download_db(download_path,lista_download=[\"skate_leilao\",\"skate_ug\" ,\"skate_usinas\"])\n",
    "    print(\"\\n\" +\"*\".center(60,\"*\") + \"\\n\")\n",
    "    result,skate_merged = calcular_previsao(directory)\n",
    "    skate_export = skate_merged[['NomUsina','IdeUsinaOutorga','NumUgUsina','SigTipoGeracao','Previsao_OC','Dat_OC_obrigacao','DatMonitoramento','FaseAtual','Indicador']].copy()\n",
    "    skate_export[\"Previsao_OC\"] = skate_export.Previsao_OC.dt.normalize()\n",
    "    skate_export[\"DatMonitoramento\"] = skate_export.DatMonitoramento.dt.normalize()\n",
    "    return result,skate_export\n",
    "\n",
    "\n",
    "def get_biu():\n",
    "    Tk().withdraw() \n",
    "    filename = askopenfilename()\n",
    "    return filename\n",
    "\n",
    "def menu_principal():\n",
    "    # Apresenta menu principal\n",
    "    global skate_merged, skate_export\n",
    "    global result,df\n",
    "    dict_menu_principal = {\n",
    "        0 : \"Sair\",\n",
    "        1 : \"Calcular previsão da base de dados\",\n",
    "        2 : \"Atualizar base de dados\",\n",
    "        3 : \"Checar Rapeel\",\n",
    "\n",
    "    }\n",
    "    show_options(dict_menu_principal)\n",
    "    opcao_menu = get_num(dict_menu_principal)\n",
    "    if opcao_menu == 0:\n",
    "        print(\"Sessão terminada.\")\n",
    "        return 0\n",
    "\n",
    "    if opcao_menu == 1:\n",
    "        clear_console()\n",
    "        print(\"Calculando previsão...\")\n",
    "        result,skate_export = calc_previsao()\n",
    "        if result == \"Ok\":\n",
    "            minutos_estimado = ((2901  / psutil.cpu_freq().max) * (skate_export.shape[0] / 50_000) * 24)/60\n",
    "            print(f\"Exportando arquivo com previsões... Previsão: {minutos_estimado:.2f} minutos.\")\n",
    "            previsao_file= os.path.join(previsoes_path,f\"Previsao_OC_{hoje_str}.xlsx\")\n",
    "            previsor_detalhe = os.path.join(previsoes_path,f\"Previsao_OC_detalhada_{hoje_str}.xlsx\")\n",
    "            skate_export.to_excel(previsao_file,index=False)\n",
    "            print(f\"Arquivo exportado: {previsao_file}\")\n",
    "            minutos_estimado = ((2901  / psutil.cpu_freq().max) * (skate_merged.shape[0] / 50_000) * 120)/60\n",
    "            print(f\"Deseja exportar arquivo detalahado? Previsão: {minutos_estimado:.2f} minutos.\")\n",
    "\n",
    "            options = {\n",
    "                0 : \"Não\",\n",
    "                1 : \"Sim\"\n",
    "            }\n",
    "            show_options(options)\n",
    "            opcao_previsao = get_num(options)\n",
    "\n",
    "            if opcao_previsao:\n",
    "                print(\"Exportando arquivo de previsão detalhado...\")\n",
    "                skate_merged.to_excel(previsor_detalhe,index=False)\n",
    "                print(f\"Arquivo exportado: {previsor_detalhe}\\n\\n\")            \n",
    "\n",
    "    if opcao_menu == 2:\n",
    "        directory = download_db(download_path,force_download=True, lista_download=[\"skate_ug\" ,\"skate_usinas\",\"leilao\"])\n",
    "\n",
    "    if opcao_menu == 3:\n",
    "        global biu\n",
    "        print(\"Data do início do BIU:\")\n",
    "        inicio_biu = get_date()\n",
    "        print(\"Selecione o arquivo do BIU\")\n",
    "        directory = download_db(download_path,force_download=False, lista_download=[\"rapeel\",\"skate_ug\",\"skate_usinas\"])        \n",
    "        biu_file_path = get_biu()\n",
    "        checar_Rapeel(biu_file_path, directory, inicio_biu,checar_rapeel_path)\n",
    "    return opcao_menu\n",
    "\n",
    "create_previsor_folders()"
   ]
  },
  {
   "cell_type": "code",
   "execution_count": 3,
   "metadata": {},
   "outputs": [
    {
     "name": "stdout",
     "output_type": "stream",
     "text": [
      "Escolha uma opção:\n",
      "0) - Sair\n",
      "1) - Calcular previsão da base de dados\n",
      "2) - Atualizar base de dados\n",
      "3) - Checar Rapeel\n",
      "Data do início do BIU:\n",
      "Selecione o arquivo do BIU\n",
      "Carregando arquivo de log...\n"
     ]
    },
    {
     "name": "stderr",
     "output_type": "stream",
     "text": [
      "c:\\Users\\viniciusbarros\\OneDrive - unb.br\\0Aneel\\Previsor\\App\\download_DB.py:12: DeprecationWarning:invalid escape sequence '\\S'\n"
     ]
    },
    {
     "ename": "FileNotFoundError",
     "evalue": "[Errno 2] No such file or directory: './Queries/rapeel.txt'",
     "output_type": "error",
     "traceback": [
      "\u001b[1;31m---------------------------------------------------------------------------\u001b[0m",
      "\u001b[1;31mFileNotFoundError\u001b[0m                         Traceback (most recent call last)",
      "\u001b[1;32mc:\\Users\\viniciusbarros\\OneDrive - unb.br\\0Aneel\\Previsor\\App\\Previsor_teste.ipynb Cell 2\u001b[0m in \u001b[0;36m<cell line: 1>\u001b[1;34m()\u001b[0m\n\u001b[0;32m      <a href='vscode-notebook-cell:/c%3A/Users/viniciusbarros/OneDrive%20-%20unb.br/0Aneel/Previsor/App/Previsor_teste.ipynb#W1sZmlsZQ%3D%3D?line=0'>1</a>\u001b[0m \u001b[39mwhile\u001b[39;00m(\u001b[39mTrue\u001b[39;00m):\n\u001b[1;32m----> <a href='vscode-notebook-cell:/c%3A/Users/viniciusbarros/OneDrive%20-%20unb.br/0Aneel/Previsor/App/Previsor_teste.ipynb#W1sZmlsZQ%3D%3D?line=1'>2</a>\u001b[0m     opcao_menu \u001b[39m=\u001b[39m menu_principal()\n\u001b[0;32m      <a href='vscode-notebook-cell:/c%3A/Users/viniciusbarros/OneDrive%20-%20unb.br/0Aneel/Previsor/App/Previsor_teste.ipynb#W1sZmlsZQ%3D%3D?line=2'>3</a>\u001b[0m     \u001b[39mif\u001b[39;00m opcao_menu \u001b[39m==\u001b[39m \u001b[39m0\u001b[39m:\n\u001b[0;32m      <a href='vscode-notebook-cell:/c%3A/Users/viniciusbarros/OneDrive%20-%20unb.br/0Aneel/Previsor/App/Previsor_teste.ipynb#W1sZmlsZQ%3D%3D?line=3'>4</a>\u001b[0m         \u001b[39mbreak\u001b[39;00m\n",
      "\u001b[1;32mc:\\Users\\viniciusbarros\\OneDrive - unb.br\\0Aneel\\Previsor\\App\\Previsor_teste.ipynb Cell 2\u001b[0m in \u001b[0;36mmenu_principal\u001b[1;34m()\u001b[0m\n\u001b[0;32m     <a href='vscode-notebook-cell:/c%3A/Users/viniciusbarros/OneDrive%20-%20unb.br/0Aneel/Previsor/App/Previsor_teste.ipynb#W1sZmlsZQ%3D%3D?line=97'>98</a>\u001b[0m inicio_biu \u001b[39m=\u001b[39m get_date()\n\u001b[0;32m     <a href='vscode-notebook-cell:/c%3A/Users/viniciusbarros/OneDrive%20-%20unb.br/0Aneel/Previsor/App/Previsor_teste.ipynb#W1sZmlsZQ%3D%3D?line=98'>99</a>\u001b[0m \u001b[39mprint\u001b[39m(\u001b[39m\"\u001b[39m\u001b[39mSelecione o arquivo do BIU\u001b[39m\u001b[39m\"\u001b[39m)\n\u001b[1;32m--> <a href='vscode-notebook-cell:/c%3A/Users/viniciusbarros/OneDrive%20-%20unb.br/0Aneel/Previsor/App/Previsor_teste.ipynb#W1sZmlsZQ%3D%3D?line=99'>100</a>\u001b[0m directory \u001b[39m=\u001b[39m download_db(download_path,force_download\u001b[39m=\u001b[39;49m\u001b[39mFalse\u001b[39;49;00m, lista_download\u001b[39m=\u001b[39;49m[\u001b[39m\"\u001b[39;49m\u001b[39mrapeel\u001b[39;49m\u001b[39m\"\u001b[39;49m,\u001b[39m\"\u001b[39;49m\u001b[39mskate_ug\u001b[39;49m\u001b[39m\"\u001b[39;49m,\u001b[39m\"\u001b[39;49m\u001b[39mskate_usinas\u001b[39;49m\u001b[39m\"\u001b[39;49m])        \n\u001b[0;32m    <a href='vscode-notebook-cell:/c%3A/Users/viniciusbarros/OneDrive%20-%20unb.br/0Aneel/Previsor/App/Previsor_teste.ipynb#W1sZmlsZQ%3D%3D?line=100'>101</a>\u001b[0m biu_file_path \u001b[39m=\u001b[39m get_biu()\n\u001b[0;32m    <a href='vscode-notebook-cell:/c%3A/Users/viniciusbarros/OneDrive%20-%20unb.br/0Aneel/Previsor/App/Previsor_teste.ipynb#W1sZmlsZQ%3D%3D?line=101'>102</a>\u001b[0m checar_Rapeel(biu_file_path, directory, inicio_biu,checar_rapeel_path)\n",
      "File \u001b[1;32mc:\\Users\\viniciusbarros\\OneDrive - unb.br\\0Aneel\\Previsor\\App\\download_DB.py:58\u001b[0m, in \u001b[0;36mdownload_db\u001b[1;34m(download_path, queries_path, lista_download, data, force_download)\u001b[0m\n\u001b[0;32m     56\u001b[0m file_path \u001b[39m=\u001b[39m \u001b[39mf\u001b[39m\u001b[39m\"\u001b[39m\u001b[39m{\u001b[39;00mdirectory\u001b[39m}\u001b[39;00m\u001b[39m/\u001b[39m\u001b[39m{\u001b[39;00mdb_name\u001b[39m}\u001b[39;00m\u001b[39m.gzip\u001b[39m\u001b[39m\"\u001b[39m\n\u001b[0;32m     57\u001b[0m \u001b[39mif\u001b[39;00m (\u001b[39mnot\u001b[39;00m os\u001b[39m.\u001b[39mpath\u001b[39m.\u001b[39mexists(file_path)) \u001b[39mor\u001b[39;00m force_download:\n\u001b[1;32m---> 58\u001b[0m     query \u001b[39m=\u001b[39m  read_file(os\u001b[39m.\u001b[39;49mpath\u001b[39m.\u001b[39;49mjoin(queries_path,\u001b[39mf\u001b[39;49m\u001b[39m\"\u001b[39;49m\u001b[39m{\u001b[39;49;00mdb_name\u001b[39m}\u001b[39;49;00m\u001b[39m.txt\u001b[39;49m\u001b[39m\"\u001b[39;49m))\n\u001b[0;32m     59\u001b[0m     db \u001b[39m=\u001b[39m pd\u001b[39m.\u001b[39mread_sql_query(query,skate_engine)\n\u001b[0;32m     60\u001b[0m     log[db_name] \u001b[39m=\u001b[39m datetime\u001b[39m.\u001b[39mnow()\u001b[39m.\u001b[39mstrftime(\u001b[39m\"\u001b[39m\u001b[39mDia: \u001b[39m\u001b[39m%d\u001b[39;00m\u001b[39m/\u001b[39m\u001b[39m%\u001b[39m\u001b[39mm/\u001b[39m\u001b[39m%\u001b[39m\u001b[39my - Horário: \u001b[39m\u001b[39m%\u001b[39m\u001b[39mH:\u001b[39m\u001b[39m%\u001b[39m\u001b[39mM:\u001b[39m\u001b[39m%\u001b[39m\u001b[39mS\u001b[39m\u001b[39m\"\u001b[39m)\n",
      "File \u001b[1;32mc:\\Users\\viniciusbarros\\OneDrive - unb.br\\0Aneel\\Previsor\\App\\utils.py:52\u001b[0m, in \u001b[0;36mread_file\u001b[1;34m(path)\u001b[0m\n\u001b[0;32m     50\u001b[0m \u001b[39mdef\u001b[39;00m \u001b[39mread_file\u001b[39m(path: \u001b[39mstr\u001b[39m):\n\u001b[0;32m     51\u001b[0m     \u001b[39m# Lê arquivo\u001b[39;00m\n\u001b[1;32m---> 52\u001b[0m     \u001b[39mwith\u001b[39;00m \u001b[39mopen\u001b[39;49m(path, \u001b[39m'\u001b[39;49m\u001b[39mr\u001b[39;49m\u001b[39m'\u001b[39;49m) \u001b[39mas\u001b[39;00m f:\n\u001b[0;32m     53\u001b[0m         lines \u001b[39m=\u001b[39m \u001b[39m\"\u001b[39m\u001b[39m\"\u001b[39m\u001b[39m.\u001b[39mjoin(f\u001b[39m.\u001b[39mreadlines())\n\u001b[0;32m     54\u001b[0m     \u001b[39mreturn\u001b[39;00m lines\n",
      "\u001b[1;31mFileNotFoundError\u001b[0m: [Errno 2] No such file or directory: './Queries/rapeel.txt'"
     ]
    }
   ],
   "source": [
    "while(True):\n",
    "    opcao_menu = menu_principal()\n",
    "    if opcao_menu == 0:\n",
    "        break"
   ]
  }
 ],
 "metadata": {
  "kernelspec": {
   "display_name": "Aneel",
   "language": "python",
   "name": "python3"
  },
  "language_info": {
   "codemirror_mode": {
    "name": "ipython",
    "version": 3
   },
   "file_extension": ".py",
   "mimetype": "text/x-python",
   "name": "python",
   "nbconvert_exporter": "python",
   "pygments_lexer": "ipython3",
   "version": "3.10.4"
  },
  "orig_nbformat": 4,
  "vscode": {
   "interpreter": {
    "hash": "480ca3e66d53f790d71f23a4e6fd5a0fb225c2e8e74302bbec1a2934ab7c2802"
   }
  }
 },
 "nbformat": 4,
 "nbformat_minor": 2
}
