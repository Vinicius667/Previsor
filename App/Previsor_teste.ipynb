{
 "cells": [
  {
   "cell_type": "code",
   "execution_count": 101,
   "metadata": {},
   "outputs": [],
   "source": [
    "import os, sys\n",
    "from utils import *\n",
    "from download_DB import download_db\n",
    "import glob"
   ]
  },
  {
   "cell_type": "code",
   "execution_count": 102,
   "metadata": {},
   "outputs": [
    {
     "name": "stdout",
     "output_type": "stream",
     "text": [
      "\n",
      "******************** Baixando arquivos *********************\n",
      "\n",
      "Carregando arquivo de log...\n",
      "vmonitoramentoleilao já foi baixado hoje: Dia: 28/12/22 - Horário: 09:58:54.  Portanto não foi baixado novamente.\n",
      "vmonitoramentoug já foi baixado hoje: Dia: 28/12/22 - Horário: 09:58:56.  Portanto não foi baixado novamente.\n",
      "vmonitoramentousina já foi baixado hoje: Dia: 28/12/22 - Horário: 09:59:00.  Portanto não foi baixado novamente.\n",
      "vrapeelacesso já foi baixado hoje: Dia: 28/12/22 - Horário: 09:59:10.  Portanto não foi baixado novamente.\n",
      "vrapeelcontratorecurso já foi baixado hoje: Dia: 28/12/22 - Horário: 09:59:33.  Portanto não foi baixado novamente.\n",
      "vrapeelcronograna já foi baixado hoje: Dia: 28/12/22 - Horário: 10:00:31.  Portanto não foi baixado novamente.\n",
      "vrapeelempreendimento já foi baixado hoje: Dia: 28/12/22 - Horário: 10:00:43.  Portanto não foi baixado novamente.\n",
      "vrapeellicenciamento já foi baixado hoje: Dia: 28/12/22 - Horário: 10:01:51.  Portanto não foi baixado novamente.\n",
      "vrapeeloperacaoug já foi baixado hoje: Dia: 28/12/22 - Horário: 10:04:03.  Portanto não foi baixado novamente.\n",
      "\n",
      "************************************************************\n",
      "\n"
     ]
    }
   ],
   "source": [
    "files = []\n",
    "for file in glob.glob(\"./Queries/v*.txt\",):\n",
    "    a,b = os.path.split(file)\n",
    "    files.append(b.split(\".\")[0])\n",
    "directory = download_db(lista_download=files)"
   ]
  },
  {
   "cell_type": "code",
   "execution_count": 103,
   "metadata": {},
   "outputs": [],
   "source": [
    "monitoramentoleilao  = pd.read_parquet(os.path.join(directory,\"vmonitoramentoleilao.gzip\"))[['IdeUsinaOutorga','CodLeilao', 'DatInicioSuprimento']]\n",
    "monitoramentoleilao.dropna(subset='DatInicioSuprimento',inplace=True)\n",
    "monitoramentoleilao = monitoramentoleilao.loc[monitoramentoleilao.groupby('IdeUsinaOutorga').DatInicioSuprimento.idxmin()]"
   ]
  },
  {
   "cell_type": "code",
   "execution_count": 104,
   "metadata": {},
   "outputs": [],
   "source": [
    "monitoramentodados  = pd.read_parquet(os.path.join(directory,\"vmonitoramentousina.gzip\"))\n",
    "io_rapeel = pd.read_parquet(os.path.join(directory,\"vrapeelcronograna.gzip\"))[['DthEnvio','IdeUsinaOutorga','DatPrevistaAprovacaoIII','DatRealizacaoIII']].drop_duplicates(inplace=True)"
   ]
  },
  {
   "cell_type": "code",
   "execution_count": 105,
   "metadata": {},
   "outputs": [],
   "source": [
    "rename_cols = {'DthEnvio' : 'Data_Envio',\n",
    "'NomUsina' : 'usina_nome',\n",
    "'DatRealizacaoII' : 'canteiroReal',\n",
    "'DatPrevistaAprovacaoIII' : 'prev_IO',\n",
    "'DatRealizacaoIII' : 'IO_real',\n",
    "'DatRealizacaoIX' : 'DesvRio_real',\n",
    "'DatRealizacaoXI' : 'Ench_Real',\n",
    "'DatRealizacaoXIII' : 'IOTrans_Real',\n",
    "'DatRealizacaoXIV' : 'Conc_Trans_REAL',\n",
    "'DatRealizacaoXII' : 'Comiss_Real',\n",
    "'DatRealizacaoVII' : 'ME_Real_conc_eol',\n",
    "'DatRealizacaoVIII' : 'Conc_Combust_Real',}\n",
    "cols = ['IdeUsinaOutorga','CodCeg','NomUsina','DatRealizacaoII','DatPrevistaAprovacaoIII','DatRealizacaoIII','DatRealizacaoIX','DatRealizacaoXI','DatRealizacaoXIII','DatRealizacaoXIV','DatRealizacaoXII','DatRealizacaoVII','DatRealizacaoVIII','DatRealizacaoVI','DatRealizacaoX','DatRealizacaoV','DatRealizacaoIV',]\n",
    "vcronograma = pd.read_parquet(os.path.join(directory,\"vrapeelcronograna.gzip\"))[cols].drop_duplicates().rename(columns=rename_cols)"
   ]
  },
  {
   "cell_type": "code",
   "execution_count": 106,
   "metadata": {},
   "outputs": [],
   "source": [
    "rename_cols = {\n",
    "    'DatPrevistaComercial' : 'DatPrevistaComercial1'\n",
    "}\n",
    "cols = ['DthEnvio','IdeUsinaOutorga','CodCeg','NomUsina','SigTipoGeracao','DscObservacao','VlrPotenciaUnitaria','NumOperacaoUg','DatPrevistaComercial','DatPrevistaRotor','DatPrevistaMaximaRotor','DatRealizacaoRotor','DatPrevistaTeste','DatPrevistaMaximaTeste','DatRealizacaoTeste','DatPrevistaComercial','DatPrevistaMaximaComercial','DatRealizacaoComercial','SigTipoGeracao','NomUsina']\n",
    "ugrapeel  = pd.read_parquet(os.path.join(directory,\"vrapeeloperacaoug.gzip\"))[cols].drop_duplicates().rename(columns=rename_cols)"
   ]
  },
  {
   "cell_type": "code",
   "execution_count": 107,
   "metadata": {},
   "outputs": [],
   "source": [
    "rename_cols = {\n",
    "'DthEnvio' : 'Data_Envio',\n",
    "'SigTipoGeracao' : 'TipoGeracao',\n",
    "'NomUsina' : 'usina_nome',\n",
    "'NumOperacaoUg' : 'Num_UG',\n",
    "'VlrPotenciaUnitaria' : 'Pot_UG',\n",
    "'DatRealizacaoRotor' : 'UG_decidarotor_real',\n",
    "'DatPrevistaTeste' : 'UG_op_test_previsão',\n",
    "'DatRealizacaoTeste' : 'UG_op_test_real',\n",
    "'DatPrevistaComercial' : 'UG_op_com_previsão',\n",
    "'DatRealizacaoComercial' : 'UG_op_com_real',\n",
    "}\n",
    "\n",
    "cols = ['DthEnvio','IdeUsinaOutorga','SigTipoGeracao','NomUsina','NumOperacaoUg','VlrPotenciaUnitaria','DatRealizacaoRotor','DatPrevistaTeste','DatRealizacaoTeste','DatPrevistaComercial','DatRealizacaoComercial','DscObservacao','DthEnvio','IdeUsinaOutorga','NumOperacaoUg']\n",
    "inputug = pd.read_parquet(os.path.join(directory,\"vrapeeloperacaoug.gzip\"))[cols].drop_duplicates().rename(columns=rename_cols)"
   ]
  },
  {
   "cell_type": "code",
   "execution_count": 108,
   "metadata": {},
   "outputs": [],
   "source": [
    "cols = ['IdeUsinaOutorga','NumUgUsina','MdaPotenciaUnitaria','MdaPotenciaLiberadaTeste','MdaPotenciaLiberadaComercial','NumDespachoTeste','numDespachoComercial','IdcMonitorada','DatDescidaoutorgadaRotor','DatRealizacaoSFGRotor','DatInicioOpTesteOutorgada','DatLiberacaoSFGTeste','DatUGInicioOpComerOutorgado','DatLiberOpComerRealizado','DatPrevisaoSFGComercial']\n",
    "monitoramentoug = pd.read_parquet(os.path.join(directory,\"vmonitoramentoug.gzip\"))[cols].drop_duplicates()"
   ]
  },
  {
   "cell_type": "code",
   "execution_count": 109,
   "metadata": {},
   "outputs": [],
   "source": [
    "cols = ['DthEnvio','IdeUsinaOutorga','CodCeg','NomUsina','PctAoACR','PctAoACL','PctAutoproducao','NomSituacaoI','PctEnergiaContratoAssinadoI','DatConclusaoI','NomSituacaoII','PctEnergiaContratoAssinadoII','DatConclusaoII','NomSituacaoIII','PctEnergiaContratoAssinadoIII','DatConclusaoIII','DscObservacao']\n",
    "rename_cols = {'NomSituacaoI' : 'SituacaoACR',\n",
    "'PctEnergiaContratoAssinadoI' : 'PctEnergiaContratoAssinadoACR',\n",
    "'DatConclusaoI' : 'DatConclusaoACR',\n",
    "'NomSituacaoII' : 'SituacaoCCESI',\n",
    "'PctEnergiaContratoAssinadoII' : 'PctEnergiaContratoAssinadoCCESI',\n",
    "'DatConclusaoII' : 'DatConclusaoCCESI',\n",
    "'NomSituacaoIII' : 'SituacaoACL',\n",
    "'PctEnergiaContratoAssinadoIII' : 'PctEnergiaContratoAssinadoACL',\n",
    "'DatConclusaoIII' : 'DatConclusaoACL',\n",
    "'DscObservacao' : 'DscObservacaomercado'}\n",
    "mercado = pd.read_parquet(os.path.join(directory,\"vrapeelcontratorecurso.gzip\"))[cols].drop_duplicates().rename(columns=rename_cols)"
   ]
  },
  {
   "cell_type": "code",
   "execution_count": 110,
   "metadata": {},
   "outputs": [],
   "source": [
    "cols= ['DthEnvio','IdeUsinaOutorga','CodCeg','NomUsina','DatSolicitacaoI','DatPrevistaEmissaoI','DatEmissaoI','DatValidadeI','NomSituacaoI','DatSolicitacaoIV','DatPrevistaEmissaoIV','DatEmissaoIV','DatValidadeIV','NomSituacaoIV','DatSolicitacaoV','DatPrevistaEmissaoV','DatEmissaoV','DatValidadeV','NomSituacaoV','IdcTipoEntrave','DscSolucao','DscObservacao']\n",
    "rename_cols = {\n",
    "'DatSolicitacaoI' : 'DatSolicitacaoLP',\n",
    "'DatPrevistaEmissaoI' : 'DatPrevistaEmissaoLP',\n",
    "'DatEmissaoI' : 'DatEmissaoLP',\n",
    "'DatValidadeI' : 'DatValidadeLP',\n",
    "'NomSituacaoI' : 'NomSituacaoLP',\n",
    "'DatSolicitacaoIV' : 'DatSolicitacaoLI',\n",
    "'DatPrevistaEmissaoIV' : 'DatPrevistaEmissaoLI',\n",
    "'DatEmissaoIV' : 'DatEmissaoLI',\n",
    "'DatValidadeIV' : 'DatValidadeLI',\n",
    "'NomSituacaoIV' : 'NomSituacaoLI',\n",
    "'DatSolicitacaoV' : 'DatSolicitacaoLO',\n",
    "'DatPrevistaEmissaoV' : 'DatPrevistaEmissaoLO',\n",
    "'DatEmissaoV' : 'DatEmissaoLO',\n",
    "'DatValidadeV' : 'DatValidadeLO',\n",
    "'NomSituacaoV' : 'NomSituacaoLO',\n",
    "'DscObservacao' : 'DscObservacaoAmbiental'}\n",
    "ambientaldatas =  pd.read_parquet(os.path.join(directory,\"vrapeellicenciamento.gzip\"))[cols].drop_duplicates().rename(columns=rename_cols)"
   ]
  },
  {
   "cell_type": "code",
   "execution_count": 111,
   "metadata": {},
   "outputs": [],
   "source": [
    "cols = ['DthEnvio','IdeUsinaOutorga','CodCeg','NomUsina','IdcTipoInstalacao','IdcNecessidade','NomSituacaoParAcesso','DatEmissaoParAcesso','NomSitContratoI','DatAssinaturaContratoI','DatValidadeContratoI','NomSitContratoII','DatAssinaturaContratoII','DatValidadeContratoII','NomSituacaoContratoIII','DatAssinaturaContratoIII','DatValidadeContratoIII','NomSitContratoIV','DatAssinaturaContratoIV','DatValidadeContratoIV','DscObservacao']\n",
    "rename_cols = {'NomSitContratoI' : 'NomSitContratoCCD',\n",
    "'DatAssinaturaContratoI' : 'DatAssinaturaContratoCCD',\n",
    "'DatValidadeContratoI' : 'DatValidadeContratoCCD',\n",
    "'NomSitContratoII' : 'NomSitContratoCCT',\n",
    "'DatAssinaturaContratoII' : 'DatAssinaturaContratoCCT',\n",
    "'DatValidadeContratoII' : 'DatValidadeContratoCCT',\n",
    "'NomSituacaoContratoIII' : 'NomSituacaoContratoCUSD',\n",
    "'DatAssinaturaContratoIII' : 'DatAssinaturaContratoCUSD',\n",
    "'DatValidadeContratoIII' : 'DatValidadeContratoCUSD',\n",
    "'NomSitContratoIV' : 'NomSitContratoCUST',\n",
    "'DatAssinaturaContratoIV' : 'DatAssinaturaContratoCUST',\n",
    "'DatValidadeContratoIV' : 'DatValidadeContratoCUST',\n",
    "'DscObservacao' : 'DscObservacaoAcesso'}\n",
    "acessocontratos =  pd.read_parquet(os.path.join(directory,\"vrapeelacesso.gzip\"))[cols].drop_duplicates().rename(columns=rename_cols)"
   ]
  },
  {
   "cell_type": "code",
   "execution_count": 112,
   "metadata": {},
   "outputs": [],
   "source": [
    "cols1 = ['IdeUsinaOutorga','DthEnvio','CodCeg','NomUsina','PctAoACR','PctAoACL','PctAutoproducao','SituacaoACR','PctEnergiaContratoAssinadoACR','DatConclusaoACR','SituacaoCCESI','PctEnergiaContratoAssinadoCCESI','DatConclusaoCCESI','SituacaoACL','PctEnergiaContratoAssinadoACL','DatConclusaoACL','DscObservacaomercado']\n",
    "cols2 = ['IdeUsinaOutorga','DthEnvio','DatSolicitacaoLP','DatPrevistaEmissaoLP','DatEmissaoLP','DatValidadeLP','NomSituacaoLP','DatSolicitacaoLI','DatPrevistaEmissaoLI','DatEmissaoLI','DatValidadeLI','NomSituacaoLI','DatSolicitacaoLO','DatPrevistaEmissaoLO','DatEmissaoLO','DatValidadeLO','NomSituacaoLO','IdcTipoEntrave','DscSolucao','DscObservacaoAmbiental']\n",
    "cols3 = [\"IdeUsinaOutorga\",\"DthEnvio\",'IdcTipoInstalacao','IdcNecessidade','NomSituacaoParAcesso','DatEmissaoParAcesso','NomSitContratoCCD','DatAssinaturaContratoCCD','DatValidadeContratoCCD','NomSitContratoCCT','DatAssinaturaContratoCCT','DatValidadeContratoCCT','NomSituacaoContratoCUSD','DatAssinaturaContratoCUSD','DatValidadeContratoCUSD','NomSitContratoCUST','DatAssinaturaContratoCUST','DatValidadeContratoCUST','DscObservacaoAcesso', ]\n",
    "inputrapeelv = pd.merge(mercado[cols1],ambientaldatas[cols2],on=[\"IdeUsinaOutorga\",\"DthEnvio\"],how=\"inner\")\n",
    "inputrapeelv = pd.merge(inputrapeelv,acessocontratos[cols3],on=[\"IdeUsinaOutorga\",\"DthEnvio\"],how=\"inner\")"
   ]
  },
  {
   "cell_type": "code",
   "execution_count": 113,
   "metadata": {},
   "outputs": [],
   "source": [
    "rapeelatualizado = inputrapeelv.loc[:,['IdeUsinaOutorga','DthEnvio']]\n",
    "rapeelatualizado =rapeelatualizado.loc[rapeelatualizado.groupby(\"IdeUsinaOutorga\").DthEnvio.idxmax()].rename(columns={'DthEnvio': 'DthEnvioMAX'})"
   ]
  },
  {
   "cell_type": "code",
   "execution_count": 116,
   "metadata": {},
   "outputs": [],
   "source": [
    "cols1 = ['DthEnvio','IdeUsinaOutorga','CodCeg','NomUsina','PctAoACR','PctAoACL','PctAutoproducao','SituacaoACR','PctEnergiaContratoAssinadoACR','DatConclusaoACR','SituacaoCCESI','PctEnergiaContratoAssinadoCCESI','DatConclusaoCCESI','SituacaoACL','PctEnergiaContratoAssinadoACL','DatConclusaoACL','IdcTipoInstalacao','IdcNecessidade','NomSituacaoParAcesso','DatEmissaoParAcesso','NomSitContratoCCD','DatAssinaturaContratoCCD','DatValidadeContratoCCD','NomSitContratoCCT','DatAssinaturaContratoCCT','DatValidadeContratoCCT','NomSituacaoContratoCUSD','DatAssinaturaContratoCUSD','DatValidadeContratoCUSD','NomSitContratoCUST','DatAssinaturaContratoCUST','DatValidadeContratoCUST','DatSolicitacaoLP','DatPrevistaEmissaoLP','DatEmissaoLP','DatValidadeLP','NomSituacaoLP','DatSolicitacaoLI','DatPrevistaEmissaoLI','DatEmissaoLI','DatValidadeLI','NomSituacaoLI','DatSolicitacaoLO','DatPrevistaEmissaoLO','DatEmissaoLO','DatValidadeLO','NomSituacaoLO','IdcTipoEntrave','DscSolucao','DscObservacaoAcesso','DscObservacaomercado','DscObservacaoAmbiental']\n",
    "cols2 = ['IdeUsinaOutorga','DthEnvioMAX']\n",
    "cols3 = ['IdeUsinaOutorga','DscObservacao','DthEnvio']\n",
    "definicoes = pd.merge(inputrapeelv[cols1],rapeelatualizado[cols2],left_on=['IdeUsinaOutorga','DthEnvio'],right_on=['IdeUsinaOutorga','DthEnvioMAX'],how=\"inner\")\n",
    "definicoes = pd.merge(definicoes,ugrapeel[cols3],on=['IdeUsinaOutorga','DthEnvio'],how=\"inner\").drop_duplicates().rename(columns={\n",
    "    'DscObservacao' : 'DscObservacaoUG'\n",
    "})"
   ]
  },
  {
   "cell_type": "code",
   "execution_count": null,
   "metadata": {},
   "outputs": [],
   "source": [
    "definicoes"
   ]
  }
 ],
 "metadata": {
  "kernelspec": {
   "display_name": "Aneel",
   "language": "python",
   "name": "python3"
  },
  "language_info": {
   "codemirror_mode": {
    "name": "ipython",
    "version": 3
   },
   "file_extension": ".py",
   "mimetype": "text/x-python",
   "name": "python",
   "nbconvert_exporter": "python",
   "pygments_lexer": "ipython3",
   "version": "3.10.4"
  },
  "orig_nbformat": 4,
  "vscode": {
   "interpreter": {
    "hash": "480ca3e66d53f790d71f23a4e6fd5a0fb225c2e8e74302bbec1a2934ab7c2802"
   }
  }
 },
 "nbformat": 4,
 "nbformat_minor": 2
}
